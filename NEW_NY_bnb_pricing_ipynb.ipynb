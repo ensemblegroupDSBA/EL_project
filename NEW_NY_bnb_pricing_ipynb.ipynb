{
  "nbformat": 4,
  "nbformat_minor": 0,
  "metadata": {
    "colab": {
      "provenance": [],
      "collapsed_sections": [
        "zpssnWOEwLmP",
        "BCkkmJ_VwSeW",
        "vzrmUe-Titw9",
        "EwA96x0UjINQ",
        "YcKjVnGHjeF8",
        "DMKaK-bbjuDt",
        "tyko-IYuj9le",
        "_5HntxvakAiN",
        "glCQWy_okGtK",
        "DXgCA1adkcYp",
        "MaX5kDnXll5p"
      ],
      "include_colab_link": true
    },
    "kernelspec": {
      "name": "python3",
      "display_name": "Python 3"
    },
    "language_info": {
      "name": "python"
    }
  },
  "cells": [
    {
      "cell_type": "markdown",
      "metadata": {
        "id": "view-in-github",
        "colab_type": "text"
      },
      "source": [
        "<a href=\"https://colab.research.google.com/github/lucreziacerto/EL_project/blob/practice/NEW_NY_bnb_pricing_ipynb.ipynb\" target=\"_parent\"><img src=\"https://colab.research.google.com/assets/colab-badge.svg\" alt=\"Open In Colab\"/></a>"
      ]
    },
    {
      "cell_type": "markdown",
      "source": [
        "# NEW YORK PRICING PREDICTIONS"
      ],
      "metadata": {
        "id": "ph2Kje_4Wou0"
      }
    },
    {
      "cell_type": "code",
      "execution_count": 1,
      "metadata": {
        "id": "0hHBVdEAQhDr"
      },
      "outputs": [],
      "source": [
        "import numpy as np\n",
        "import os\n",
        "import pandas as pd\n",
        "import matplotlib.pyplot as plt  # useful for data vizualisation\n",
        "import seaborn as sns\n",
        "\n",
        "import datetime"
      ]
    },
    {
      "cell_type": "code",
      "source": [
        "# import necessary libraries\n",
        "\n",
        "import pandas as pd\n",
        "import numpy as np\n",
        "import os\n",
        "import glob\n",
        "\n",
        "# for modeling\n",
        "import statsmodels.api as sm\n",
        "from sklearn.cluster import KMeans\n",
        "from sklearn.preprocessing import MinMaxScaler\n",
        "from sklearn.model_selection import train_test_split\n",
        "from sklearn.model_selection import RandomizedSearchCV\n",
        "from sklearn.model_selection import cross_validate\n",
        "from sklearn.linear_model import LinearRegression\n",
        "from sklearn.linear_model import LassoCV\n",
        "from sklearn.linear_model import ElasticNet\n",
        "from sklearn.linear_model import RidgeCV\n",
        "from sklearn.ensemble import GradientBoostingRegressor\n",
        "from sklearn.ensemble import HistGradientBoostingRegressor\n",
        "from sklearn.ensemble import RandomForestRegressor\n",
        "from sklearn.linear_model import HuberRegressor\n",
        "from sklearn.svm import SVR\n",
        "import xgboost as xg\n",
        "from statsmodels.tsa.statespace.sarimax import SARIMAX\n",
        "import statsmodels.api as sm\n",
        "from statsmodels.graphics.tsaplots import plot_acf,plot_pacf\n",
        "from statsmodels.tsa.ar_model import AutoReg\n",
        "\n",
        "\n",
        "# for scoring\n",
        "from sklearn.metrics import mean_absolute_error,mean_squared_error,r2_score,mean_absolute_percentage_error\n",
        "\n",
        "# for visualizations\n",
        "import matplotlib.pyplot as plt\n",
        "import seaborn as sns"
      ],
      "metadata": {
        "id": "GJPgDkR7XUfP"
      },
      "execution_count": 2,
      "outputs": []
    },
    {
      "cell_type": "code",
      "source": [
        "dt =  pd.read_csv('/content/AB_NYC_2019.csv')"
      ],
      "metadata": {
        "id": "cd5-ZLzDQmhM"
      },
      "execution_count": 3,
      "outputs": []
    },
    {
      "cell_type": "code",
      "source": [
        "dt"
      ],
      "metadata": {
        "id": "-H4FAFJ-RID9"
      },
      "execution_count": null,
      "outputs": []
    },
    {
      "cell_type": "markdown",
      "source": [
        "## DATA EXPLORATION"
      ],
      "metadata": {
        "id": "zpssnWOEwLmP"
      }
    },
    {
      "cell_type": "code",
      "source": [
        "print(list(dt))"
      ],
      "metadata": {
        "colab": {
          "base_uri": "https://localhost:8080/"
        },
        "id": "EgqWLboqEmcj",
        "outputId": "a51f7420-f716-4a0d-f03e-a1925b505b6b"
      },
      "execution_count": 12,
      "outputs": [
        {
          "output_type": "stream",
          "name": "stdout",
          "text": [
            "['id', 'name', 'host_id', 'host_name', 'neighbourhood_group', 'neighbourhood', 'latitude', 'longitude', 'room_type', 'price', 'minimum_nights', 'number_of_reviews', 'last_review', 'reviews_per_month', 'calculated_host_listings_count', 'availability_365']\n"
          ]
        }
      ]
    },
    {
      "cell_type": "code",
      "source": [
        "dt['calculated_host_listings_count'].unique()"
      ],
      "metadata": {
        "colab": {
          "base_uri": "https://localhost:8080/"
        },
        "id": "-MI7yuChSM-j",
        "outputId": "05b62276-30b0-4b9a-d2d5-6c0145ff6658"
      },
      "execution_count": 4,
      "outputs": [
        {
          "output_type": "execute_result",
          "data": {
            "text/plain": [
              "array([  6.,   2.,   1.,   4.,   3.,   5.,   7.,  13.,  28.,  11.,   8.,\n",
              "         9.,  52.,  18.,  15.,  19.,  10.,  39.,  26.,  29.,  12.,  21.,\n",
              "        96.,  14.,  34.,  43., 121.,  37.,  49.,  31.,  91.,  16.,  87.,\n",
              "        33.,  23.,  nan])"
            ]
          },
          "metadata": {},
          "execution_count": 4
        }
      ]
    },
    {
      "cell_type": "code",
      "source": [
        "dt.isna().sum() "
      ],
      "metadata": {
        "colab": {
          "base_uri": "https://localhost:8080/"
        },
        "id": "WJfOAfZuTrHQ",
        "outputId": "85cc31bc-7dd9-49ee-9b98-ac4ccf06bbd7"
      },
      "execution_count": 4,
      "outputs": [
        {
          "output_type": "execute_result",
          "data": {
            "text/plain": [
              "id                                    0\n",
              "name                                 16\n",
              "host_id                               0\n",
              "host_name                            21\n",
              "neighbourhood_group                   0\n",
              "neighbourhood                         0\n",
              "latitude                              0\n",
              "longitude                             0\n",
              "room_type                             0\n",
              "price                                 0\n",
              "minimum_nights                        0\n",
              "number_of_reviews                     0\n",
              "last_review                       10052\n",
              "reviews_per_month                 10052\n",
              "calculated_host_listings_count        0\n",
              "availability_365                      0\n",
              "dtype: int64"
            ]
          },
          "metadata": {},
          "execution_count": 4
        }
      ]
    },
    {
      "cell_type": "code",
      "source": [
        "dt[dt[['host_id','room_type']].duplicated()]"
      ],
      "metadata": {
        "colab": {
          "base_uri": "https://localhost:8080/",
          "height": 956
        },
        "id": "iKaloGm-WgCD",
        "outputId": "7d623858-16e2-4e92-aee1-32562dd539c5"
      },
      "execution_count": 6,
      "outputs": [
        {
          "output_type": "execute_result",
          "data": {
            "text/plain": [
              "             id                                             name    host_id  \\\n",
              "22         8025                         CBG Helps Haiti Room#2.5      22486   \n",
              "23         8110                            CBG Helps Haiti Rm #2      22486   \n",
              "33         9783                              back room/bunk beds      32294   \n",
              "35        10962  Lovely room 2 & garden; Best area, Legal rental       9744   \n",
              "58        15338                  Room in Greenpoint Loft w/ Roof      32169   \n",
              "...         ...                                              ...        ...   \n",
              "22035  17730019                                     HALSEY HAVEN  101435219   \n",
              "22036  17730390               Bedroom in Brooklyn Communal House   13416818   \n",
              "22045  17735639                 Adorable Bright Private Bedroom.    4204783   \n",
              "22049  17738174                           Bayside Room  w/ 1 Bed  116746802   \n",
              "22054  17744351              1 Bd furnished Bayridge Brooklyn NY  119029523   \n",
              "\n",
              "             host_name neighbourhood_group       neighbourhood  latitude  \\\n",
              "22               Lisel            Brooklyn          Park Slope  40.67989   \n",
              "23               Lisel            Brooklyn          Park Slope  40.68001   \n",
              "33     Ssameer Or Trip           Manhattan              Harlem  40.82130   \n",
              "35              Laurie            Brooklyn         South Slope  40.66869   \n",
              "58              Andrea            Brooklyn          Greenpoint  40.72401   \n",
              "...                ...                 ...                 ...       ...   \n",
              "22035         Gretchen            Brooklyn  Bedford-Stuyvesant  40.68607   \n",
              "22036             Emma            Brooklyn  Bedford-Stuyvesant  40.68116   \n",
              "22045            Kevin       Staten Island       West Brighton  40.63149   \n",
              "22049        Christine              Queens             Bayside  40.74924   \n",
              "22054            Ebada            Brooklyn       Fort Hamilton  40.62241   \n",
              "\n",
              "       longitude        room_type  price  minimum_nights  number_of_reviews  \\\n",
              "22     -73.97798     Private room   80.0             1.0               39.0   \n",
              "23     -73.97865     Private room  110.0             2.0               71.0   \n",
              "33     -73.95318     Private room   50.0             3.0              273.0   \n",
              "35     -73.98780     Private room   89.0             4.0              168.0   \n",
              "58     -73.93788     Private room   49.0             4.0              138.0   \n",
              "...          ...              ...    ...             ...                ...   \n",
              "22035  -73.92392  Entire home/apt  161.0             2.0               45.0   \n",
              "22036  -73.95726     Private room   45.0             2.0               14.0   \n",
              "22045  -74.12393     Private room   49.0             2.0               32.0   \n",
              "22049  -73.75654     Private room   49.0             3.0               29.0   \n",
              "22054  -74.02863  Entire home/apt  115.0             4.0                3.0   \n",
              "\n",
              "      last_review  reviews_per_month  calculated_host_listings_count  \\\n",
              "22     2019-01-01               0.37                             6.0   \n",
              "23     2019-07-02               0.61                             6.0   \n",
              "33     2019-07-01               2.37                             3.0   \n",
              "35     2019-06-21               1.41                             3.0   \n",
              "58     2019-06-04               1.19                             3.0   \n",
              "...           ...                ...                             ...   \n",
              "22035  2019-06-24               1.65                             2.0   \n",
              "22036  2017-09-30               0.51                             3.0   \n",
              "22045  2019-06-29               1.14                             3.0   \n",
              "22049  2019-06-16               1.07                             5.0   \n",
              "22054  2019-05-19               0.48                             3.0   \n",
              "\n",
              "       availability_365  \n",
              "22                364.0  \n",
              "23                304.0  \n",
              "33                359.0  \n",
              "35                340.0  \n",
              "58                320.0  \n",
              "...                 ...  \n",
              "22035             270.0  \n",
              "22036               0.0  \n",
              "22045             315.0  \n",
              "22049              96.0  \n",
              "22054             295.0  \n",
              "\n",
              "[3032 rows x 16 columns]"
            ],
            "text/html": [
              "\n",
              "  <div id=\"df-4b7cb8ab-089f-41d0-8811-93f172d8b062\">\n",
              "    <div class=\"colab-df-container\">\n",
              "      <div>\n",
              "<style scoped>\n",
              "    .dataframe tbody tr th:only-of-type {\n",
              "        vertical-align: middle;\n",
              "    }\n",
              "\n",
              "    .dataframe tbody tr th {\n",
              "        vertical-align: top;\n",
              "    }\n",
              "\n",
              "    .dataframe thead th {\n",
              "        text-align: right;\n",
              "    }\n",
              "</style>\n",
              "<table border=\"1\" class=\"dataframe\">\n",
              "  <thead>\n",
              "    <tr style=\"text-align: right;\">\n",
              "      <th></th>\n",
              "      <th>id</th>\n",
              "      <th>name</th>\n",
              "      <th>host_id</th>\n",
              "      <th>host_name</th>\n",
              "      <th>neighbourhood_group</th>\n",
              "      <th>neighbourhood</th>\n",
              "      <th>latitude</th>\n",
              "      <th>longitude</th>\n",
              "      <th>room_type</th>\n",
              "      <th>price</th>\n",
              "      <th>minimum_nights</th>\n",
              "      <th>number_of_reviews</th>\n",
              "      <th>last_review</th>\n",
              "      <th>reviews_per_month</th>\n",
              "      <th>calculated_host_listings_count</th>\n",
              "      <th>availability_365</th>\n",
              "    </tr>\n",
              "  </thead>\n",
              "  <tbody>\n",
              "    <tr>\n",
              "      <th>22</th>\n",
              "      <td>8025</td>\n",
              "      <td>CBG Helps Haiti Room#2.5</td>\n",
              "      <td>22486</td>\n",
              "      <td>Lisel</td>\n",
              "      <td>Brooklyn</td>\n",
              "      <td>Park Slope</td>\n",
              "      <td>40.67989</td>\n",
              "      <td>-73.97798</td>\n",
              "      <td>Private room</td>\n",
              "      <td>80.0</td>\n",
              "      <td>1.0</td>\n",
              "      <td>39.0</td>\n",
              "      <td>2019-01-01</td>\n",
              "      <td>0.37</td>\n",
              "      <td>6.0</td>\n",
              "      <td>364.0</td>\n",
              "    </tr>\n",
              "    <tr>\n",
              "      <th>23</th>\n",
              "      <td>8110</td>\n",
              "      <td>CBG Helps Haiti Rm #2</td>\n",
              "      <td>22486</td>\n",
              "      <td>Lisel</td>\n",
              "      <td>Brooklyn</td>\n",
              "      <td>Park Slope</td>\n",
              "      <td>40.68001</td>\n",
              "      <td>-73.97865</td>\n",
              "      <td>Private room</td>\n",
              "      <td>110.0</td>\n",
              "      <td>2.0</td>\n",
              "      <td>71.0</td>\n",
              "      <td>2019-07-02</td>\n",
              "      <td>0.61</td>\n",
              "      <td>6.0</td>\n",
              "      <td>304.0</td>\n",
              "    </tr>\n",
              "    <tr>\n",
              "      <th>33</th>\n",
              "      <td>9783</td>\n",
              "      <td>back room/bunk beds</td>\n",
              "      <td>32294</td>\n",
              "      <td>Ssameer Or Trip</td>\n",
              "      <td>Manhattan</td>\n",
              "      <td>Harlem</td>\n",
              "      <td>40.82130</td>\n",
              "      <td>-73.95318</td>\n",
              "      <td>Private room</td>\n",
              "      <td>50.0</td>\n",
              "      <td>3.0</td>\n",
              "      <td>273.0</td>\n",
              "      <td>2019-07-01</td>\n",
              "      <td>2.37</td>\n",
              "      <td>3.0</td>\n",
              "      <td>359.0</td>\n",
              "    </tr>\n",
              "    <tr>\n",
              "      <th>35</th>\n",
              "      <td>10962</td>\n",
              "      <td>Lovely room 2 &amp; garden; Best area, Legal rental</td>\n",
              "      <td>9744</td>\n",
              "      <td>Laurie</td>\n",
              "      <td>Brooklyn</td>\n",
              "      <td>South Slope</td>\n",
              "      <td>40.66869</td>\n",
              "      <td>-73.98780</td>\n",
              "      <td>Private room</td>\n",
              "      <td>89.0</td>\n",
              "      <td>4.0</td>\n",
              "      <td>168.0</td>\n",
              "      <td>2019-06-21</td>\n",
              "      <td>1.41</td>\n",
              "      <td>3.0</td>\n",
              "      <td>340.0</td>\n",
              "    </tr>\n",
              "    <tr>\n",
              "      <th>58</th>\n",
              "      <td>15338</td>\n",
              "      <td>Room in Greenpoint Loft w/ Roof</td>\n",
              "      <td>32169</td>\n",
              "      <td>Andrea</td>\n",
              "      <td>Brooklyn</td>\n",
              "      <td>Greenpoint</td>\n",
              "      <td>40.72401</td>\n",
              "      <td>-73.93788</td>\n",
              "      <td>Private room</td>\n",
              "      <td>49.0</td>\n",
              "      <td>4.0</td>\n",
              "      <td>138.0</td>\n",
              "      <td>2019-06-04</td>\n",
              "      <td>1.19</td>\n",
              "      <td>3.0</td>\n",
              "      <td>320.0</td>\n",
              "    </tr>\n",
              "    <tr>\n",
              "      <th>...</th>\n",
              "      <td>...</td>\n",
              "      <td>...</td>\n",
              "      <td>...</td>\n",
              "      <td>...</td>\n",
              "      <td>...</td>\n",
              "      <td>...</td>\n",
              "      <td>...</td>\n",
              "      <td>...</td>\n",
              "      <td>...</td>\n",
              "      <td>...</td>\n",
              "      <td>...</td>\n",
              "      <td>...</td>\n",
              "      <td>...</td>\n",
              "      <td>...</td>\n",
              "      <td>...</td>\n",
              "      <td>...</td>\n",
              "    </tr>\n",
              "    <tr>\n",
              "      <th>22035</th>\n",
              "      <td>17730019</td>\n",
              "      <td>HALSEY HAVEN</td>\n",
              "      <td>101435219</td>\n",
              "      <td>Gretchen</td>\n",
              "      <td>Brooklyn</td>\n",
              "      <td>Bedford-Stuyvesant</td>\n",
              "      <td>40.68607</td>\n",
              "      <td>-73.92392</td>\n",
              "      <td>Entire home/apt</td>\n",
              "      <td>161.0</td>\n",
              "      <td>2.0</td>\n",
              "      <td>45.0</td>\n",
              "      <td>2019-06-24</td>\n",
              "      <td>1.65</td>\n",
              "      <td>2.0</td>\n",
              "      <td>270.0</td>\n",
              "    </tr>\n",
              "    <tr>\n",
              "      <th>22036</th>\n",
              "      <td>17730390</td>\n",
              "      <td>Bedroom in Brooklyn Communal House</td>\n",
              "      <td>13416818</td>\n",
              "      <td>Emma</td>\n",
              "      <td>Brooklyn</td>\n",
              "      <td>Bedford-Stuyvesant</td>\n",
              "      <td>40.68116</td>\n",
              "      <td>-73.95726</td>\n",
              "      <td>Private room</td>\n",
              "      <td>45.0</td>\n",
              "      <td>2.0</td>\n",
              "      <td>14.0</td>\n",
              "      <td>2017-09-30</td>\n",
              "      <td>0.51</td>\n",
              "      <td>3.0</td>\n",
              "      <td>0.0</td>\n",
              "    </tr>\n",
              "    <tr>\n",
              "      <th>22045</th>\n",
              "      <td>17735639</td>\n",
              "      <td>Adorable Bright Private Bedroom.</td>\n",
              "      <td>4204783</td>\n",
              "      <td>Kevin</td>\n",
              "      <td>Staten Island</td>\n",
              "      <td>West Brighton</td>\n",
              "      <td>40.63149</td>\n",
              "      <td>-74.12393</td>\n",
              "      <td>Private room</td>\n",
              "      <td>49.0</td>\n",
              "      <td>2.0</td>\n",
              "      <td>32.0</td>\n",
              "      <td>2019-06-29</td>\n",
              "      <td>1.14</td>\n",
              "      <td>3.0</td>\n",
              "      <td>315.0</td>\n",
              "    </tr>\n",
              "    <tr>\n",
              "      <th>22049</th>\n",
              "      <td>17738174</td>\n",
              "      <td>Bayside Room  w/ 1 Bed</td>\n",
              "      <td>116746802</td>\n",
              "      <td>Christine</td>\n",
              "      <td>Queens</td>\n",
              "      <td>Bayside</td>\n",
              "      <td>40.74924</td>\n",
              "      <td>-73.75654</td>\n",
              "      <td>Private room</td>\n",
              "      <td>49.0</td>\n",
              "      <td>3.0</td>\n",
              "      <td>29.0</td>\n",
              "      <td>2019-06-16</td>\n",
              "      <td>1.07</td>\n",
              "      <td>5.0</td>\n",
              "      <td>96.0</td>\n",
              "    </tr>\n",
              "    <tr>\n",
              "      <th>22054</th>\n",
              "      <td>17744351</td>\n",
              "      <td>1 Bd furnished Bayridge Brooklyn NY</td>\n",
              "      <td>119029523</td>\n",
              "      <td>Ebada</td>\n",
              "      <td>Brooklyn</td>\n",
              "      <td>Fort Hamilton</td>\n",
              "      <td>40.62241</td>\n",
              "      <td>-74.02863</td>\n",
              "      <td>Entire home/apt</td>\n",
              "      <td>115.0</td>\n",
              "      <td>4.0</td>\n",
              "      <td>3.0</td>\n",
              "      <td>2019-05-19</td>\n",
              "      <td>0.48</td>\n",
              "      <td>3.0</td>\n",
              "      <td>295.0</td>\n",
              "    </tr>\n",
              "  </tbody>\n",
              "</table>\n",
              "<p>3032 rows × 16 columns</p>\n",
              "</div>\n",
              "      <button class=\"colab-df-convert\" onclick=\"convertToInteractive('df-4b7cb8ab-089f-41d0-8811-93f172d8b062')\"\n",
              "              title=\"Convert this dataframe to an interactive table.\"\n",
              "              style=\"display:none;\">\n",
              "        \n",
              "  <svg xmlns=\"http://www.w3.org/2000/svg\" height=\"24px\"viewBox=\"0 0 24 24\"\n",
              "       width=\"24px\">\n",
              "    <path d=\"M0 0h24v24H0V0z\" fill=\"none\"/>\n",
              "    <path d=\"M18.56 5.44l.94 2.06.94-2.06 2.06-.94-2.06-.94-.94-2.06-.94 2.06-2.06.94zm-11 1L8.5 8.5l.94-2.06 2.06-.94-2.06-.94L8.5 2.5l-.94 2.06-2.06.94zm10 10l.94 2.06.94-2.06 2.06-.94-2.06-.94-.94-2.06-.94 2.06-2.06.94z\"/><path d=\"M17.41 7.96l-1.37-1.37c-.4-.4-.92-.59-1.43-.59-.52 0-1.04.2-1.43.59L10.3 9.45l-7.72 7.72c-.78.78-.78 2.05 0 2.83L4 21.41c.39.39.9.59 1.41.59.51 0 1.02-.2 1.41-.59l7.78-7.78 2.81-2.81c.8-.78.8-2.07 0-2.86zM5.41 20L4 18.59l7.72-7.72 1.47 1.35L5.41 20z\"/>\n",
              "  </svg>\n",
              "      </button>\n",
              "      \n",
              "  <style>\n",
              "    .colab-df-container {\n",
              "      display:flex;\n",
              "      flex-wrap:wrap;\n",
              "      gap: 12px;\n",
              "    }\n",
              "\n",
              "    .colab-df-convert {\n",
              "      background-color: #E8F0FE;\n",
              "      border: none;\n",
              "      border-radius: 50%;\n",
              "      cursor: pointer;\n",
              "      display: none;\n",
              "      fill: #1967D2;\n",
              "      height: 32px;\n",
              "      padding: 0 0 0 0;\n",
              "      width: 32px;\n",
              "    }\n",
              "\n",
              "    .colab-df-convert:hover {\n",
              "      background-color: #E2EBFA;\n",
              "      box-shadow: 0px 1px 2px rgba(60, 64, 67, 0.3), 0px 1px 3px 1px rgba(60, 64, 67, 0.15);\n",
              "      fill: #174EA6;\n",
              "    }\n",
              "\n",
              "    [theme=dark] .colab-df-convert {\n",
              "      background-color: #3B4455;\n",
              "      fill: #D2E3FC;\n",
              "    }\n",
              "\n",
              "    [theme=dark] .colab-df-convert:hover {\n",
              "      background-color: #434B5C;\n",
              "      box-shadow: 0px 1px 3px 1px rgba(0, 0, 0, 0.15);\n",
              "      filter: drop-shadow(0px 1px 2px rgba(0, 0, 0, 0.3));\n",
              "      fill: #FFFFFF;\n",
              "    }\n",
              "  </style>\n",
              "\n",
              "      <script>\n",
              "        const buttonEl =\n",
              "          document.querySelector('#df-4b7cb8ab-089f-41d0-8811-93f172d8b062 button.colab-df-convert');\n",
              "        buttonEl.style.display =\n",
              "          google.colab.kernel.accessAllowed ? 'block' : 'none';\n",
              "\n",
              "        async function convertToInteractive(key) {\n",
              "          const element = document.querySelector('#df-4b7cb8ab-089f-41d0-8811-93f172d8b062');\n",
              "          const dataTable =\n",
              "            await google.colab.kernel.invokeFunction('convertToInteractive',\n",
              "                                                     [key], {});\n",
              "          if (!dataTable) return;\n",
              "\n",
              "          const docLinkHtml = 'Like what you see? Visit the ' +\n",
              "            '<a target=\"_blank\" href=https://colab.research.google.com/notebooks/data_table.ipynb>data table notebook</a>'\n",
              "            + ' to learn more about interactive tables.';\n",
              "          element.innerHTML = '';\n",
              "          dataTable['output_type'] = 'display_data';\n",
              "          await google.colab.output.renderOutput(dataTable, element);\n",
              "          const docLink = document.createElement('div');\n",
              "          docLink.innerHTML = docLinkHtml;\n",
              "          element.appendChild(docLink);\n",
              "        }\n",
              "      </script>\n",
              "    </div>\n",
              "  </div>\n",
              "  "
            ]
          },
          "metadata": {},
          "execution_count": 6
        }
      ]
    },
    {
      "cell_type": "code",
      "source": [
        "dt[dt['host_id']==32294]"
      ],
      "metadata": {
        "colab": {
          "base_uri": "https://localhost:8080/",
          "height": 329
        },
        "id": "UuPEQ8HpYcKS",
        "outputId": "54825f9b-5841-4f30-f564-85eb77a6abe5"
      },
      "execution_count": 7,
      "outputs": [
        {
          "output_type": "execute_result",
          "data": {
            "text/plain": [
              "        id                                              name  host_id  \\\n",
              "30    9668                             front room/double bed    32294   \n",
              "33    9783                               back room/bunk beds    32294   \n",
              "100  22918  loft bed - near transportation-15min to times sq    32294   \n",
              "\n",
              "           host_name neighbourhood_group neighbourhood  latitude  longitude  \\\n",
              "30   Ssameer Or Trip           Manhattan        Harlem  40.82245  -73.95104   \n",
              "33   Ssameer Or Trip           Manhattan        Harlem  40.82130  -73.95318   \n",
              "100  Ssameer Or Trip           Manhattan        Harlem  40.82279  -73.95139   \n",
              "\n",
              "        room_type  price  minimum_nights  number_of_reviews last_review  \\\n",
              "30   Private room   50.0             3.0              242.0  2019-06-01   \n",
              "33   Private room   50.0             3.0              273.0  2019-07-01   \n",
              "100  Private room   60.0             3.0               11.0  2019-01-03   \n",
              "\n",
              "     reviews_per_month  calculated_host_listings_count  availability_365  \n",
              "30                2.04                             3.0             355.0  \n",
              "33                2.37                             3.0             359.0  \n",
              "100               0.87                             3.0             219.0  "
            ],
            "text/html": [
              "\n",
              "  <div id=\"df-043ca0c1-1cfd-42f4-bc00-36ceef0d59ce\">\n",
              "    <div class=\"colab-df-container\">\n",
              "      <div>\n",
              "<style scoped>\n",
              "    .dataframe tbody tr th:only-of-type {\n",
              "        vertical-align: middle;\n",
              "    }\n",
              "\n",
              "    .dataframe tbody tr th {\n",
              "        vertical-align: top;\n",
              "    }\n",
              "\n",
              "    .dataframe thead th {\n",
              "        text-align: right;\n",
              "    }\n",
              "</style>\n",
              "<table border=\"1\" class=\"dataframe\">\n",
              "  <thead>\n",
              "    <tr style=\"text-align: right;\">\n",
              "      <th></th>\n",
              "      <th>id</th>\n",
              "      <th>name</th>\n",
              "      <th>host_id</th>\n",
              "      <th>host_name</th>\n",
              "      <th>neighbourhood_group</th>\n",
              "      <th>neighbourhood</th>\n",
              "      <th>latitude</th>\n",
              "      <th>longitude</th>\n",
              "      <th>room_type</th>\n",
              "      <th>price</th>\n",
              "      <th>minimum_nights</th>\n",
              "      <th>number_of_reviews</th>\n",
              "      <th>last_review</th>\n",
              "      <th>reviews_per_month</th>\n",
              "      <th>calculated_host_listings_count</th>\n",
              "      <th>availability_365</th>\n",
              "    </tr>\n",
              "  </thead>\n",
              "  <tbody>\n",
              "    <tr>\n",
              "      <th>30</th>\n",
              "      <td>9668</td>\n",
              "      <td>front room/double bed</td>\n",
              "      <td>32294</td>\n",
              "      <td>Ssameer Or Trip</td>\n",
              "      <td>Manhattan</td>\n",
              "      <td>Harlem</td>\n",
              "      <td>40.82245</td>\n",
              "      <td>-73.95104</td>\n",
              "      <td>Private room</td>\n",
              "      <td>50.0</td>\n",
              "      <td>3.0</td>\n",
              "      <td>242.0</td>\n",
              "      <td>2019-06-01</td>\n",
              "      <td>2.04</td>\n",
              "      <td>3.0</td>\n",
              "      <td>355.0</td>\n",
              "    </tr>\n",
              "    <tr>\n",
              "      <th>33</th>\n",
              "      <td>9783</td>\n",
              "      <td>back room/bunk beds</td>\n",
              "      <td>32294</td>\n",
              "      <td>Ssameer Or Trip</td>\n",
              "      <td>Manhattan</td>\n",
              "      <td>Harlem</td>\n",
              "      <td>40.82130</td>\n",
              "      <td>-73.95318</td>\n",
              "      <td>Private room</td>\n",
              "      <td>50.0</td>\n",
              "      <td>3.0</td>\n",
              "      <td>273.0</td>\n",
              "      <td>2019-07-01</td>\n",
              "      <td>2.37</td>\n",
              "      <td>3.0</td>\n",
              "      <td>359.0</td>\n",
              "    </tr>\n",
              "    <tr>\n",
              "      <th>100</th>\n",
              "      <td>22918</td>\n",
              "      <td>loft bed - near transportation-15min to times sq</td>\n",
              "      <td>32294</td>\n",
              "      <td>Ssameer Or Trip</td>\n",
              "      <td>Manhattan</td>\n",
              "      <td>Harlem</td>\n",
              "      <td>40.82279</td>\n",
              "      <td>-73.95139</td>\n",
              "      <td>Private room</td>\n",
              "      <td>60.0</td>\n",
              "      <td>3.0</td>\n",
              "      <td>11.0</td>\n",
              "      <td>2019-01-03</td>\n",
              "      <td>0.87</td>\n",
              "      <td>3.0</td>\n",
              "      <td>219.0</td>\n",
              "    </tr>\n",
              "  </tbody>\n",
              "</table>\n",
              "</div>\n",
              "      <button class=\"colab-df-convert\" onclick=\"convertToInteractive('df-043ca0c1-1cfd-42f4-bc00-36ceef0d59ce')\"\n",
              "              title=\"Convert this dataframe to an interactive table.\"\n",
              "              style=\"display:none;\">\n",
              "        \n",
              "  <svg xmlns=\"http://www.w3.org/2000/svg\" height=\"24px\"viewBox=\"0 0 24 24\"\n",
              "       width=\"24px\">\n",
              "    <path d=\"M0 0h24v24H0V0z\" fill=\"none\"/>\n",
              "    <path d=\"M18.56 5.44l.94 2.06.94-2.06 2.06-.94-2.06-.94-.94-2.06-.94 2.06-2.06.94zm-11 1L8.5 8.5l.94-2.06 2.06-.94-2.06-.94L8.5 2.5l-.94 2.06-2.06.94zm10 10l.94 2.06.94-2.06 2.06-.94-2.06-.94-.94-2.06-.94 2.06-2.06.94z\"/><path d=\"M17.41 7.96l-1.37-1.37c-.4-.4-.92-.59-1.43-.59-.52 0-1.04.2-1.43.59L10.3 9.45l-7.72 7.72c-.78.78-.78 2.05 0 2.83L4 21.41c.39.39.9.59 1.41.59.51 0 1.02-.2 1.41-.59l7.78-7.78 2.81-2.81c.8-.78.8-2.07 0-2.86zM5.41 20L4 18.59l7.72-7.72 1.47 1.35L5.41 20z\"/>\n",
              "  </svg>\n",
              "      </button>\n",
              "      \n",
              "  <style>\n",
              "    .colab-df-container {\n",
              "      display:flex;\n",
              "      flex-wrap:wrap;\n",
              "      gap: 12px;\n",
              "    }\n",
              "\n",
              "    .colab-df-convert {\n",
              "      background-color: #E8F0FE;\n",
              "      border: none;\n",
              "      border-radius: 50%;\n",
              "      cursor: pointer;\n",
              "      display: none;\n",
              "      fill: #1967D2;\n",
              "      height: 32px;\n",
              "      padding: 0 0 0 0;\n",
              "      width: 32px;\n",
              "    }\n",
              "\n",
              "    .colab-df-convert:hover {\n",
              "      background-color: #E2EBFA;\n",
              "      box-shadow: 0px 1px 2px rgba(60, 64, 67, 0.3), 0px 1px 3px 1px rgba(60, 64, 67, 0.15);\n",
              "      fill: #174EA6;\n",
              "    }\n",
              "\n",
              "    [theme=dark] .colab-df-convert {\n",
              "      background-color: #3B4455;\n",
              "      fill: #D2E3FC;\n",
              "    }\n",
              "\n",
              "    [theme=dark] .colab-df-convert:hover {\n",
              "      background-color: #434B5C;\n",
              "      box-shadow: 0px 1px 3px 1px rgba(0, 0, 0, 0.15);\n",
              "      filter: drop-shadow(0px 1px 2px rgba(0, 0, 0, 0.3));\n",
              "      fill: #FFFFFF;\n",
              "    }\n",
              "  </style>\n",
              "\n",
              "      <script>\n",
              "        const buttonEl =\n",
              "          document.querySelector('#df-043ca0c1-1cfd-42f4-bc00-36ceef0d59ce button.colab-df-convert');\n",
              "        buttonEl.style.display =\n",
              "          google.colab.kernel.accessAllowed ? 'block' : 'none';\n",
              "\n",
              "        async function convertToInteractive(key) {\n",
              "          const element = document.querySelector('#df-043ca0c1-1cfd-42f4-bc00-36ceef0d59ce');\n",
              "          const dataTable =\n",
              "            await google.colab.kernel.invokeFunction('convertToInteractive',\n",
              "                                                     [key], {});\n",
              "          if (!dataTable) return;\n",
              "\n",
              "          const docLinkHtml = 'Like what you see? Visit the ' +\n",
              "            '<a target=\"_blank\" href=https://colab.research.google.com/notebooks/data_table.ipynb>data table notebook</a>'\n",
              "            + ' to learn more about interactive tables.';\n",
              "          element.innerHTML = '';\n",
              "          dataTable['output_type'] = 'display_data';\n",
              "          await google.colab.output.renderOutput(dataTable, element);\n",
              "          const docLink = document.createElement('div');\n",
              "          docLink.innerHTML = docLinkHtml;\n",
              "          element.appendChild(docLink);\n",
              "        }\n",
              "      </script>\n",
              "    </div>\n",
              "  </div>\n",
              "  "
            ]
          },
          "metadata": {},
          "execution_count": 7
        }
      ]
    },
    {
      "cell_type": "code",
      "source": [
        "dt[dt['calculated_host_listings_count']<2]['host_id'].nunique()"
      ],
      "metadata": {
        "colab": {
          "base_uri": "https://localhost:8080/"
        },
        "id": "kkdH-duOZUtv",
        "outputId": "fa0df529-b88b-49c8-fbdb-f2536392402e"
      },
      "execution_count": 8,
      "outputs": [
        {
          "output_type": "execute_result",
          "data": {
            "text/plain": [
              "15823"
            ]
          },
          "metadata": {},
          "execution_count": 8
        }
      ]
    },
    {
      "cell_type": "code",
      "source": [
        "dt[dt['availability_365']<30]"
      ],
      "metadata": {
        "colab": {
          "base_uri": "https://localhost:8080/",
          "height": 921
        },
        "id": "08MN0FNOaDaW",
        "outputId": "3f17261e-aecd-4728-a5bb-9563d5b2a037"
      },
      "execution_count": 9,
      "outputs": [
        {
          "output_type": "execute_result",
          "data": {
            "text/plain": [
              "             id                                               name    host_id  \\\n",
              "4          5022   Entire Apt: Spacious Studio/Loft by central park       7192   \n",
              "6          5121                                    BlissArtsSpace!       7356   \n",
              "8          5203                 Cozy Clean Guest Room - Family Apt       7490   \n",
              "10         5295                   Beautiful 1br on Upper West Side       7702   \n",
              "14         6090                      West Village Nest - Superhost      11975   \n",
              "...         ...                                                ...        ...   \n",
              "22050  17738717  Clean Cosy Bedroom w/Desk 10min to JFK & Big Mall    6166708   \n",
              "22051  17739111  Living Room in 2 Bedroom Apartment Brighton Beach  119523037   \n",
              "22055  17746222  Perfect bedroom. Near Subways Columbia CityCol...   16721721   \n",
              "22056  17748284  Guest BedRm in quaint NYC neighborhood. NEAR T...   25196982   \n",
              "22057  17749273                      1 br Woodside - close to LGA!  121096858   \n",
              "\n",
              "                  host_name neighbourhood_group       neighbourhood  latitude  \\\n",
              "4                     Laura           Manhattan         East Harlem  40.79851   \n",
              "6                     Garon            Brooklyn  Bedford-Stuyvesant  40.68688   \n",
              "8                 MaryEllen           Manhattan     Upper West Side  40.80178   \n",
              "10                     Lena           Manhattan     Upper West Side  40.80316   \n",
              "14                    Alina           Manhattan        West Village  40.73530   \n",
              "...                     ...                 ...                 ...       ...   \n",
              "22050  Christine & Einstein              Queens            Rosedale  40.65252   \n",
              "22051                  Anna            Brooklyn      Brighton Beach  40.58017   \n",
              "22055              Federico           Manhattan              Harlem  40.81530   \n",
              "22056               Nikolas              Queens             Astoria  40.76924   \n",
              "22057               Caressa              Queens            Woodside  40.74176   \n",
              "\n",
              "       longitude        room_type  price  minimum_nights  number_of_reviews  \\\n",
              "4      -73.94399  Entire home/apt   80.0            10.0                9.0   \n",
              "6      -73.95596     Private room   60.0            45.0               49.0   \n",
              "8      -73.96723     Private room   79.0             2.0              118.0   \n",
              "10     -73.96545  Entire home/apt  135.0             5.0               53.0   \n",
              "14     -74.00525  Entire home/apt  120.0            90.0               27.0   \n",
              "...          ...              ...    ...             ...                ...   \n",
              "22050  -73.73425     Private room   22.0             1.0               59.0   \n",
              "22051  -73.96160      Shared room   50.0             1.0                1.0   \n",
              "22055  -73.95080     Private room   65.0             2.0               18.0   \n",
              "22056  -73.91702     Private room   65.0             1.0               11.0   \n",
              "22057  -73.90631     Private room   35.0             1.0                0.0   \n",
              "\n",
              "      last_review  reviews_per_month  calculated_host_listings_count  \\\n",
              "4      2018-11-19               0.10                             1.0   \n",
              "6      2017-10-05               0.40                             1.0   \n",
              "8      2017-07-21               0.99                             1.0   \n",
              "10     2019-06-22               0.43                             1.0   \n",
              "14     2018-10-31               0.22                             1.0   \n",
              "...           ...                ...                             ...   \n",
              "22050  2019-05-17               2.10                             1.0   \n",
              "22051  2017-09-13               0.05                             4.0   \n",
              "22055  2018-11-04               0.64                             1.0   \n",
              "22056  2019-06-17               3.24                             1.0   \n",
              "22057         NaN                NaN                             1.0   \n",
              "\n",
              "       availability_365  \n",
              "4                   0.0  \n",
              "6                   0.0  \n",
              "8                   0.0  \n",
              "10                  6.0  \n",
              "14                  0.0  \n",
              "...                 ...  \n",
              "22050               0.0  \n",
              "22051               1.0  \n",
              "22055               0.0  \n",
              "22056               9.0  \n",
              "22057               0.0  \n",
              "\n",
              "[11893 rows x 16 columns]"
            ],
            "text/html": [
              "\n",
              "  <div id=\"df-e09387fa-4814-4e9f-a907-5c9d87b49f33\">\n",
              "    <div class=\"colab-df-container\">\n",
              "      <div>\n",
              "<style scoped>\n",
              "    .dataframe tbody tr th:only-of-type {\n",
              "        vertical-align: middle;\n",
              "    }\n",
              "\n",
              "    .dataframe tbody tr th {\n",
              "        vertical-align: top;\n",
              "    }\n",
              "\n",
              "    .dataframe thead th {\n",
              "        text-align: right;\n",
              "    }\n",
              "</style>\n",
              "<table border=\"1\" class=\"dataframe\">\n",
              "  <thead>\n",
              "    <tr style=\"text-align: right;\">\n",
              "      <th></th>\n",
              "      <th>id</th>\n",
              "      <th>name</th>\n",
              "      <th>host_id</th>\n",
              "      <th>host_name</th>\n",
              "      <th>neighbourhood_group</th>\n",
              "      <th>neighbourhood</th>\n",
              "      <th>latitude</th>\n",
              "      <th>longitude</th>\n",
              "      <th>room_type</th>\n",
              "      <th>price</th>\n",
              "      <th>minimum_nights</th>\n",
              "      <th>number_of_reviews</th>\n",
              "      <th>last_review</th>\n",
              "      <th>reviews_per_month</th>\n",
              "      <th>calculated_host_listings_count</th>\n",
              "      <th>availability_365</th>\n",
              "    </tr>\n",
              "  </thead>\n",
              "  <tbody>\n",
              "    <tr>\n",
              "      <th>4</th>\n",
              "      <td>5022</td>\n",
              "      <td>Entire Apt: Spacious Studio/Loft by central park</td>\n",
              "      <td>7192</td>\n",
              "      <td>Laura</td>\n",
              "      <td>Manhattan</td>\n",
              "      <td>East Harlem</td>\n",
              "      <td>40.79851</td>\n",
              "      <td>-73.94399</td>\n",
              "      <td>Entire home/apt</td>\n",
              "      <td>80.0</td>\n",
              "      <td>10.0</td>\n",
              "      <td>9.0</td>\n",
              "      <td>2018-11-19</td>\n",
              "      <td>0.10</td>\n",
              "      <td>1.0</td>\n",
              "      <td>0.0</td>\n",
              "    </tr>\n",
              "    <tr>\n",
              "      <th>6</th>\n",
              "      <td>5121</td>\n",
              "      <td>BlissArtsSpace!</td>\n",
              "      <td>7356</td>\n",
              "      <td>Garon</td>\n",
              "      <td>Brooklyn</td>\n",
              "      <td>Bedford-Stuyvesant</td>\n",
              "      <td>40.68688</td>\n",
              "      <td>-73.95596</td>\n",
              "      <td>Private room</td>\n",
              "      <td>60.0</td>\n",
              "      <td>45.0</td>\n",
              "      <td>49.0</td>\n",
              "      <td>2017-10-05</td>\n",
              "      <td>0.40</td>\n",
              "      <td>1.0</td>\n",
              "      <td>0.0</td>\n",
              "    </tr>\n",
              "    <tr>\n",
              "      <th>8</th>\n",
              "      <td>5203</td>\n",
              "      <td>Cozy Clean Guest Room - Family Apt</td>\n",
              "      <td>7490</td>\n",
              "      <td>MaryEllen</td>\n",
              "      <td>Manhattan</td>\n",
              "      <td>Upper West Side</td>\n",
              "      <td>40.80178</td>\n",
              "      <td>-73.96723</td>\n",
              "      <td>Private room</td>\n",
              "      <td>79.0</td>\n",
              "      <td>2.0</td>\n",
              "      <td>118.0</td>\n",
              "      <td>2017-07-21</td>\n",
              "      <td>0.99</td>\n",
              "      <td>1.0</td>\n",
              "      <td>0.0</td>\n",
              "    </tr>\n",
              "    <tr>\n",
              "      <th>10</th>\n",
              "      <td>5295</td>\n",
              "      <td>Beautiful 1br on Upper West Side</td>\n",
              "      <td>7702</td>\n",
              "      <td>Lena</td>\n",
              "      <td>Manhattan</td>\n",
              "      <td>Upper West Side</td>\n",
              "      <td>40.80316</td>\n",
              "      <td>-73.96545</td>\n",
              "      <td>Entire home/apt</td>\n",
              "      <td>135.0</td>\n",
              "      <td>5.0</td>\n",
              "      <td>53.0</td>\n",
              "      <td>2019-06-22</td>\n",
              "      <td>0.43</td>\n",
              "      <td>1.0</td>\n",
              "      <td>6.0</td>\n",
              "    </tr>\n",
              "    <tr>\n",
              "      <th>14</th>\n",
              "      <td>6090</td>\n",
              "      <td>West Village Nest - Superhost</td>\n",
              "      <td>11975</td>\n",
              "      <td>Alina</td>\n",
              "      <td>Manhattan</td>\n",
              "      <td>West Village</td>\n",
              "      <td>40.73530</td>\n",
              "      <td>-74.00525</td>\n",
              "      <td>Entire home/apt</td>\n",
              "      <td>120.0</td>\n",
              "      <td>90.0</td>\n",
              "      <td>27.0</td>\n",
              "      <td>2018-10-31</td>\n",
              "      <td>0.22</td>\n",
              "      <td>1.0</td>\n",
              "      <td>0.0</td>\n",
              "    </tr>\n",
              "    <tr>\n",
              "      <th>...</th>\n",
              "      <td>...</td>\n",
              "      <td>...</td>\n",
              "      <td>...</td>\n",
              "      <td>...</td>\n",
              "      <td>...</td>\n",
              "      <td>...</td>\n",
              "      <td>...</td>\n",
              "      <td>...</td>\n",
              "      <td>...</td>\n",
              "      <td>...</td>\n",
              "      <td>...</td>\n",
              "      <td>...</td>\n",
              "      <td>...</td>\n",
              "      <td>...</td>\n",
              "      <td>...</td>\n",
              "      <td>...</td>\n",
              "    </tr>\n",
              "    <tr>\n",
              "      <th>22050</th>\n",
              "      <td>17738717</td>\n",
              "      <td>Clean Cosy Bedroom w/Desk 10min to JFK &amp; Big Mall</td>\n",
              "      <td>6166708</td>\n",
              "      <td>Christine &amp; Einstein</td>\n",
              "      <td>Queens</td>\n",
              "      <td>Rosedale</td>\n",
              "      <td>40.65252</td>\n",
              "      <td>-73.73425</td>\n",
              "      <td>Private room</td>\n",
              "      <td>22.0</td>\n",
              "      <td>1.0</td>\n",
              "      <td>59.0</td>\n",
              "      <td>2019-05-17</td>\n",
              "      <td>2.10</td>\n",
              "      <td>1.0</td>\n",
              "      <td>0.0</td>\n",
              "    </tr>\n",
              "    <tr>\n",
              "      <th>22051</th>\n",
              "      <td>17739111</td>\n",
              "      <td>Living Room in 2 Bedroom Apartment Brighton Beach</td>\n",
              "      <td>119523037</td>\n",
              "      <td>Anna</td>\n",
              "      <td>Brooklyn</td>\n",
              "      <td>Brighton Beach</td>\n",
              "      <td>40.58017</td>\n",
              "      <td>-73.96160</td>\n",
              "      <td>Shared room</td>\n",
              "      <td>50.0</td>\n",
              "      <td>1.0</td>\n",
              "      <td>1.0</td>\n",
              "      <td>2017-09-13</td>\n",
              "      <td>0.05</td>\n",
              "      <td>4.0</td>\n",
              "      <td>1.0</td>\n",
              "    </tr>\n",
              "    <tr>\n",
              "      <th>22055</th>\n",
              "      <td>17746222</td>\n",
              "      <td>Perfect bedroom. Near Subways Columbia CityCol...</td>\n",
              "      <td>16721721</td>\n",
              "      <td>Federico</td>\n",
              "      <td>Manhattan</td>\n",
              "      <td>Harlem</td>\n",
              "      <td>40.81530</td>\n",
              "      <td>-73.95080</td>\n",
              "      <td>Private room</td>\n",
              "      <td>65.0</td>\n",
              "      <td>2.0</td>\n",
              "      <td>18.0</td>\n",
              "      <td>2018-11-04</td>\n",
              "      <td>0.64</td>\n",
              "      <td>1.0</td>\n",
              "      <td>0.0</td>\n",
              "    </tr>\n",
              "    <tr>\n",
              "      <th>22056</th>\n",
              "      <td>17748284</td>\n",
              "      <td>Guest BedRm in quaint NYC neighborhood. NEAR T...</td>\n",
              "      <td>25196982</td>\n",
              "      <td>Nikolas</td>\n",
              "      <td>Queens</td>\n",
              "      <td>Astoria</td>\n",
              "      <td>40.76924</td>\n",
              "      <td>-73.91702</td>\n",
              "      <td>Private room</td>\n",
              "      <td>65.0</td>\n",
              "      <td>1.0</td>\n",
              "      <td>11.0</td>\n",
              "      <td>2019-06-17</td>\n",
              "      <td>3.24</td>\n",
              "      <td>1.0</td>\n",
              "      <td>9.0</td>\n",
              "    </tr>\n",
              "    <tr>\n",
              "      <th>22057</th>\n",
              "      <td>17749273</td>\n",
              "      <td>1 br Woodside - close to LGA!</td>\n",
              "      <td>121096858</td>\n",
              "      <td>Caressa</td>\n",
              "      <td>Queens</td>\n",
              "      <td>Woodside</td>\n",
              "      <td>40.74176</td>\n",
              "      <td>-73.90631</td>\n",
              "      <td>Private room</td>\n",
              "      <td>35.0</td>\n",
              "      <td>1.0</td>\n",
              "      <td>0.0</td>\n",
              "      <td>NaN</td>\n",
              "      <td>NaN</td>\n",
              "      <td>1.0</td>\n",
              "      <td>0.0</td>\n",
              "    </tr>\n",
              "  </tbody>\n",
              "</table>\n",
              "<p>11893 rows × 16 columns</p>\n",
              "</div>\n",
              "      <button class=\"colab-df-convert\" onclick=\"convertToInteractive('df-e09387fa-4814-4e9f-a907-5c9d87b49f33')\"\n",
              "              title=\"Convert this dataframe to an interactive table.\"\n",
              "              style=\"display:none;\">\n",
              "        \n",
              "  <svg xmlns=\"http://www.w3.org/2000/svg\" height=\"24px\"viewBox=\"0 0 24 24\"\n",
              "       width=\"24px\">\n",
              "    <path d=\"M0 0h24v24H0V0z\" fill=\"none\"/>\n",
              "    <path d=\"M18.56 5.44l.94 2.06.94-2.06 2.06-.94-2.06-.94-.94-2.06-.94 2.06-2.06.94zm-11 1L8.5 8.5l.94-2.06 2.06-.94-2.06-.94L8.5 2.5l-.94 2.06-2.06.94zm10 10l.94 2.06.94-2.06 2.06-.94-2.06-.94-.94-2.06-.94 2.06-2.06.94z\"/><path d=\"M17.41 7.96l-1.37-1.37c-.4-.4-.92-.59-1.43-.59-.52 0-1.04.2-1.43.59L10.3 9.45l-7.72 7.72c-.78.78-.78 2.05 0 2.83L4 21.41c.39.39.9.59 1.41.59.51 0 1.02-.2 1.41-.59l7.78-7.78 2.81-2.81c.8-.78.8-2.07 0-2.86zM5.41 20L4 18.59l7.72-7.72 1.47 1.35L5.41 20z\"/>\n",
              "  </svg>\n",
              "      </button>\n",
              "      \n",
              "  <style>\n",
              "    .colab-df-container {\n",
              "      display:flex;\n",
              "      flex-wrap:wrap;\n",
              "      gap: 12px;\n",
              "    }\n",
              "\n",
              "    .colab-df-convert {\n",
              "      background-color: #E8F0FE;\n",
              "      border: none;\n",
              "      border-radius: 50%;\n",
              "      cursor: pointer;\n",
              "      display: none;\n",
              "      fill: #1967D2;\n",
              "      height: 32px;\n",
              "      padding: 0 0 0 0;\n",
              "      width: 32px;\n",
              "    }\n",
              "\n",
              "    .colab-df-convert:hover {\n",
              "      background-color: #E2EBFA;\n",
              "      box-shadow: 0px 1px 2px rgba(60, 64, 67, 0.3), 0px 1px 3px 1px rgba(60, 64, 67, 0.15);\n",
              "      fill: #174EA6;\n",
              "    }\n",
              "\n",
              "    [theme=dark] .colab-df-convert {\n",
              "      background-color: #3B4455;\n",
              "      fill: #D2E3FC;\n",
              "    }\n",
              "\n",
              "    [theme=dark] .colab-df-convert:hover {\n",
              "      background-color: #434B5C;\n",
              "      box-shadow: 0px 1px 3px 1px rgba(0, 0, 0, 0.15);\n",
              "      filter: drop-shadow(0px 1px 2px rgba(0, 0, 0, 0.3));\n",
              "      fill: #FFFFFF;\n",
              "    }\n",
              "  </style>\n",
              "\n",
              "      <script>\n",
              "        const buttonEl =\n",
              "          document.querySelector('#df-e09387fa-4814-4e9f-a907-5c9d87b49f33 button.colab-df-convert');\n",
              "        buttonEl.style.display =\n",
              "          google.colab.kernel.accessAllowed ? 'block' : 'none';\n",
              "\n",
              "        async function convertToInteractive(key) {\n",
              "          const element = document.querySelector('#df-e09387fa-4814-4e9f-a907-5c9d87b49f33');\n",
              "          const dataTable =\n",
              "            await google.colab.kernel.invokeFunction('convertToInteractive',\n",
              "                                                     [key], {});\n",
              "          if (!dataTable) return;\n",
              "\n",
              "          const docLinkHtml = 'Like what you see? Visit the ' +\n",
              "            '<a target=\"_blank\" href=https://colab.research.google.com/notebooks/data_table.ipynb>data table notebook</a>'\n",
              "            + ' to learn more about interactive tables.';\n",
              "          element.innerHTML = '';\n",
              "          dataTable['output_type'] = 'display_data';\n",
              "          await google.colab.output.renderOutput(dataTable, element);\n",
              "          const docLink = document.createElement('div');\n",
              "          docLink.innerHTML = docLinkHtml;\n",
              "          element.appendChild(docLink);\n",
              "        }\n",
              "      </script>\n",
              "    </div>\n",
              "  </div>\n",
              "  "
            ]
          },
          "metadata": {},
          "execution_count": 9
        }
      ]
    },
    {
      "cell_type": "code",
      "source": [
        "dt[dt['availability_365']==0]"
      ],
      "metadata": {
        "colab": {
          "base_uri": "https://localhost:8080/",
          "height": 904
        },
        "id": "ubYKx9ivbp3M",
        "outputId": "97ee3fdb-659c-4c09-cf1e-299fb2e51f8d"
      },
      "execution_count": 10,
      "outputs": [
        {
          "output_type": "execute_result",
          "data": {
            "text/plain": [
              "             id                                               name    host_id  \\\n",
              "4          5022   Entire Apt: Spacious Studio/Loft by central park       7192   \n",
              "6          5121                                    BlissArtsSpace!       7356   \n",
              "8          5203                 Cozy Clean Guest Room - Family Apt       7490   \n",
              "14         6090                      West Village Nest - Superhost      11975   \n",
              "20         7801                   Sweet and Spacious Brooklyn Loft      21207   \n",
              "...         ...                                                ...        ...   \n",
              "22047  17737245       Chic & zen room in a very clean Brooklyn apt   43045034   \n",
              "22048  17737925                    Extra Cosy Room in Williamsburg  120989542   \n",
              "22050  17738717  Clean Cosy Bedroom w/Desk 10min to JFK & Big Mall    6166708   \n",
              "22055  17746222  Perfect bedroom. Near Subways Columbia CityCol...   16721721   \n",
              "22057  17749273                      1 br Woodside - close to LGA!  121096858   \n",
              "\n",
              "                  host_name neighbourhood_group       neighbourhood  latitude  \\\n",
              "4                     Laura           Manhattan         East Harlem  40.79851   \n",
              "6                     Garon            Brooklyn  Bedford-Stuyvesant  40.68688   \n",
              "8                 MaryEllen           Manhattan     Upper West Side  40.80178   \n",
              "14                    Alina           Manhattan        West Village  40.73530   \n",
              "20                    Chaya            Brooklyn        Williamsburg  40.71842   \n",
              "...                     ...                 ...                 ...       ...   \n",
              "22047                  Thuy            Brooklyn  Bedford-Stuyvesant  40.69660   \n",
              "22048                Arthur            Brooklyn        Williamsburg  40.70626   \n",
              "22050  Christine & Einstein              Queens            Rosedale  40.65252   \n",
              "22055              Federico           Manhattan              Harlem  40.81530   \n",
              "22057               Caressa              Queens            Woodside  40.74176   \n",
              "\n",
              "       longitude        room_type  price  minimum_nights  number_of_reviews  \\\n",
              "4      -73.94399  Entire home/apt   80.0            10.0                9.0   \n",
              "6      -73.95596     Private room   60.0            45.0               49.0   \n",
              "8      -73.96723     Private room   79.0             2.0              118.0   \n",
              "14     -74.00525  Entire home/apt  120.0            90.0               27.0   \n",
              "20     -73.95718  Entire home/apt  299.0             3.0                9.0   \n",
              "...          ...              ...    ...             ...                ...   \n",
              "22047  -73.93839     Private room   70.0             3.0               27.0   \n",
              "22048  -73.95212     Private room   60.0             4.0                3.0   \n",
              "22050  -73.73425     Private room   22.0             1.0               59.0   \n",
              "22055  -73.95080     Private room   65.0             2.0               18.0   \n",
              "22057  -73.90631     Private room   35.0             1.0                0.0   \n",
              "\n",
              "      last_review  reviews_per_month  calculated_host_listings_count  \\\n",
              "4      2018-11-19               0.10                             1.0   \n",
              "6      2017-10-05               0.40                             1.0   \n",
              "8      2017-07-21               0.99                             1.0   \n",
              "14     2018-10-31               0.22                             1.0   \n",
              "20     2011-12-28               0.07                             1.0   \n",
              "...           ...                ...                             ...   \n",
              "22047  2019-06-01               1.81                             1.0   \n",
              "22048  2017-08-07               0.12                             1.0   \n",
              "22050  2019-05-17               2.10                             1.0   \n",
              "22055  2018-11-04               0.64                             1.0   \n",
              "22057         NaN                NaN                             1.0   \n",
              "\n",
              "       availability_365  \n",
              "4                   0.0  \n",
              "6                   0.0  \n",
              "8                   0.0  \n",
              "14                  0.0  \n",
              "20                  0.0  \n",
              "...                 ...  \n",
              "22047               0.0  \n",
              "22048               0.0  \n",
              "22050               0.0  \n",
              "22055               0.0  \n",
              "22057               0.0  \n",
              "\n",
              "[10321 rows x 16 columns]"
            ],
            "text/html": [
              "\n",
              "  <div id=\"df-1eb01719-3625-4bae-be3a-5ba97edc9070\">\n",
              "    <div class=\"colab-df-container\">\n",
              "      <div>\n",
              "<style scoped>\n",
              "    .dataframe tbody tr th:only-of-type {\n",
              "        vertical-align: middle;\n",
              "    }\n",
              "\n",
              "    .dataframe tbody tr th {\n",
              "        vertical-align: top;\n",
              "    }\n",
              "\n",
              "    .dataframe thead th {\n",
              "        text-align: right;\n",
              "    }\n",
              "</style>\n",
              "<table border=\"1\" class=\"dataframe\">\n",
              "  <thead>\n",
              "    <tr style=\"text-align: right;\">\n",
              "      <th></th>\n",
              "      <th>id</th>\n",
              "      <th>name</th>\n",
              "      <th>host_id</th>\n",
              "      <th>host_name</th>\n",
              "      <th>neighbourhood_group</th>\n",
              "      <th>neighbourhood</th>\n",
              "      <th>latitude</th>\n",
              "      <th>longitude</th>\n",
              "      <th>room_type</th>\n",
              "      <th>price</th>\n",
              "      <th>minimum_nights</th>\n",
              "      <th>number_of_reviews</th>\n",
              "      <th>last_review</th>\n",
              "      <th>reviews_per_month</th>\n",
              "      <th>calculated_host_listings_count</th>\n",
              "      <th>availability_365</th>\n",
              "    </tr>\n",
              "  </thead>\n",
              "  <tbody>\n",
              "    <tr>\n",
              "      <th>4</th>\n",
              "      <td>5022</td>\n",
              "      <td>Entire Apt: Spacious Studio/Loft by central park</td>\n",
              "      <td>7192</td>\n",
              "      <td>Laura</td>\n",
              "      <td>Manhattan</td>\n",
              "      <td>East Harlem</td>\n",
              "      <td>40.79851</td>\n",
              "      <td>-73.94399</td>\n",
              "      <td>Entire home/apt</td>\n",
              "      <td>80.0</td>\n",
              "      <td>10.0</td>\n",
              "      <td>9.0</td>\n",
              "      <td>2018-11-19</td>\n",
              "      <td>0.10</td>\n",
              "      <td>1.0</td>\n",
              "      <td>0.0</td>\n",
              "    </tr>\n",
              "    <tr>\n",
              "      <th>6</th>\n",
              "      <td>5121</td>\n",
              "      <td>BlissArtsSpace!</td>\n",
              "      <td>7356</td>\n",
              "      <td>Garon</td>\n",
              "      <td>Brooklyn</td>\n",
              "      <td>Bedford-Stuyvesant</td>\n",
              "      <td>40.68688</td>\n",
              "      <td>-73.95596</td>\n",
              "      <td>Private room</td>\n",
              "      <td>60.0</td>\n",
              "      <td>45.0</td>\n",
              "      <td>49.0</td>\n",
              "      <td>2017-10-05</td>\n",
              "      <td>0.40</td>\n",
              "      <td>1.0</td>\n",
              "      <td>0.0</td>\n",
              "    </tr>\n",
              "    <tr>\n",
              "      <th>8</th>\n",
              "      <td>5203</td>\n",
              "      <td>Cozy Clean Guest Room - Family Apt</td>\n",
              "      <td>7490</td>\n",
              "      <td>MaryEllen</td>\n",
              "      <td>Manhattan</td>\n",
              "      <td>Upper West Side</td>\n",
              "      <td>40.80178</td>\n",
              "      <td>-73.96723</td>\n",
              "      <td>Private room</td>\n",
              "      <td>79.0</td>\n",
              "      <td>2.0</td>\n",
              "      <td>118.0</td>\n",
              "      <td>2017-07-21</td>\n",
              "      <td>0.99</td>\n",
              "      <td>1.0</td>\n",
              "      <td>0.0</td>\n",
              "    </tr>\n",
              "    <tr>\n",
              "      <th>14</th>\n",
              "      <td>6090</td>\n",
              "      <td>West Village Nest - Superhost</td>\n",
              "      <td>11975</td>\n",
              "      <td>Alina</td>\n",
              "      <td>Manhattan</td>\n",
              "      <td>West Village</td>\n",
              "      <td>40.73530</td>\n",
              "      <td>-74.00525</td>\n",
              "      <td>Entire home/apt</td>\n",
              "      <td>120.0</td>\n",
              "      <td>90.0</td>\n",
              "      <td>27.0</td>\n",
              "      <td>2018-10-31</td>\n",
              "      <td>0.22</td>\n",
              "      <td>1.0</td>\n",
              "      <td>0.0</td>\n",
              "    </tr>\n",
              "    <tr>\n",
              "      <th>20</th>\n",
              "      <td>7801</td>\n",
              "      <td>Sweet and Spacious Brooklyn Loft</td>\n",
              "      <td>21207</td>\n",
              "      <td>Chaya</td>\n",
              "      <td>Brooklyn</td>\n",
              "      <td>Williamsburg</td>\n",
              "      <td>40.71842</td>\n",
              "      <td>-73.95718</td>\n",
              "      <td>Entire home/apt</td>\n",
              "      <td>299.0</td>\n",
              "      <td>3.0</td>\n",
              "      <td>9.0</td>\n",
              "      <td>2011-12-28</td>\n",
              "      <td>0.07</td>\n",
              "      <td>1.0</td>\n",
              "      <td>0.0</td>\n",
              "    </tr>\n",
              "    <tr>\n",
              "      <th>...</th>\n",
              "      <td>...</td>\n",
              "      <td>...</td>\n",
              "      <td>...</td>\n",
              "      <td>...</td>\n",
              "      <td>...</td>\n",
              "      <td>...</td>\n",
              "      <td>...</td>\n",
              "      <td>...</td>\n",
              "      <td>...</td>\n",
              "      <td>...</td>\n",
              "      <td>...</td>\n",
              "      <td>...</td>\n",
              "      <td>...</td>\n",
              "      <td>...</td>\n",
              "      <td>...</td>\n",
              "      <td>...</td>\n",
              "    </tr>\n",
              "    <tr>\n",
              "      <th>22047</th>\n",
              "      <td>17737245</td>\n",
              "      <td>Chic &amp; zen room in a very clean Brooklyn apt</td>\n",
              "      <td>43045034</td>\n",
              "      <td>Thuy</td>\n",
              "      <td>Brooklyn</td>\n",
              "      <td>Bedford-Stuyvesant</td>\n",
              "      <td>40.69660</td>\n",
              "      <td>-73.93839</td>\n",
              "      <td>Private room</td>\n",
              "      <td>70.0</td>\n",
              "      <td>3.0</td>\n",
              "      <td>27.0</td>\n",
              "      <td>2019-06-01</td>\n",
              "      <td>1.81</td>\n",
              "      <td>1.0</td>\n",
              "      <td>0.0</td>\n",
              "    </tr>\n",
              "    <tr>\n",
              "      <th>22048</th>\n",
              "      <td>17737925</td>\n",
              "      <td>Extra Cosy Room in Williamsburg</td>\n",
              "      <td>120989542</td>\n",
              "      <td>Arthur</td>\n",
              "      <td>Brooklyn</td>\n",
              "      <td>Williamsburg</td>\n",
              "      <td>40.70626</td>\n",
              "      <td>-73.95212</td>\n",
              "      <td>Private room</td>\n",
              "      <td>60.0</td>\n",
              "      <td>4.0</td>\n",
              "      <td>3.0</td>\n",
              "      <td>2017-08-07</td>\n",
              "      <td>0.12</td>\n",
              "      <td>1.0</td>\n",
              "      <td>0.0</td>\n",
              "    </tr>\n",
              "    <tr>\n",
              "      <th>22050</th>\n",
              "      <td>17738717</td>\n",
              "      <td>Clean Cosy Bedroom w/Desk 10min to JFK &amp; Big Mall</td>\n",
              "      <td>6166708</td>\n",
              "      <td>Christine &amp; Einstein</td>\n",
              "      <td>Queens</td>\n",
              "      <td>Rosedale</td>\n",
              "      <td>40.65252</td>\n",
              "      <td>-73.73425</td>\n",
              "      <td>Private room</td>\n",
              "      <td>22.0</td>\n",
              "      <td>1.0</td>\n",
              "      <td>59.0</td>\n",
              "      <td>2019-05-17</td>\n",
              "      <td>2.10</td>\n",
              "      <td>1.0</td>\n",
              "      <td>0.0</td>\n",
              "    </tr>\n",
              "    <tr>\n",
              "      <th>22055</th>\n",
              "      <td>17746222</td>\n",
              "      <td>Perfect bedroom. Near Subways Columbia CityCol...</td>\n",
              "      <td>16721721</td>\n",
              "      <td>Federico</td>\n",
              "      <td>Manhattan</td>\n",
              "      <td>Harlem</td>\n",
              "      <td>40.81530</td>\n",
              "      <td>-73.95080</td>\n",
              "      <td>Private room</td>\n",
              "      <td>65.0</td>\n",
              "      <td>2.0</td>\n",
              "      <td>18.0</td>\n",
              "      <td>2018-11-04</td>\n",
              "      <td>0.64</td>\n",
              "      <td>1.0</td>\n",
              "      <td>0.0</td>\n",
              "    </tr>\n",
              "    <tr>\n",
              "      <th>22057</th>\n",
              "      <td>17749273</td>\n",
              "      <td>1 br Woodside - close to LGA!</td>\n",
              "      <td>121096858</td>\n",
              "      <td>Caressa</td>\n",
              "      <td>Queens</td>\n",
              "      <td>Woodside</td>\n",
              "      <td>40.74176</td>\n",
              "      <td>-73.90631</td>\n",
              "      <td>Private room</td>\n",
              "      <td>35.0</td>\n",
              "      <td>1.0</td>\n",
              "      <td>0.0</td>\n",
              "      <td>NaN</td>\n",
              "      <td>NaN</td>\n",
              "      <td>1.0</td>\n",
              "      <td>0.0</td>\n",
              "    </tr>\n",
              "  </tbody>\n",
              "</table>\n",
              "<p>10321 rows × 16 columns</p>\n",
              "</div>\n",
              "      <button class=\"colab-df-convert\" onclick=\"convertToInteractive('df-1eb01719-3625-4bae-be3a-5ba97edc9070')\"\n",
              "              title=\"Convert this dataframe to an interactive table.\"\n",
              "              style=\"display:none;\">\n",
              "        \n",
              "  <svg xmlns=\"http://www.w3.org/2000/svg\" height=\"24px\"viewBox=\"0 0 24 24\"\n",
              "       width=\"24px\">\n",
              "    <path d=\"M0 0h24v24H0V0z\" fill=\"none\"/>\n",
              "    <path d=\"M18.56 5.44l.94 2.06.94-2.06 2.06-.94-2.06-.94-.94-2.06-.94 2.06-2.06.94zm-11 1L8.5 8.5l.94-2.06 2.06-.94-2.06-.94L8.5 2.5l-.94 2.06-2.06.94zm10 10l.94 2.06.94-2.06 2.06-.94-2.06-.94-.94-2.06-.94 2.06-2.06.94z\"/><path d=\"M17.41 7.96l-1.37-1.37c-.4-.4-.92-.59-1.43-.59-.52 0-1.04.2-1.43.59L10.3 9.45l-7.72 7.72c-.78.78-.78 2.05 0 2.83L4 21.41c.39.39.9.59 1.41.59.51 0 1.02-.2 1.41-.59l7.78-7.78 2.81-2.81c.8-.78.8-2.07 0-2.86zM5.41 20L4 18.59l7.72-7.72 1.47 1.35L5.41 20z\"/>\n",
              "  </svg>\n",
              "      </button>\n",
              "      \n",
              "  <style>\n",
              "    .colab-df-container {\n",
              "      display:flex;\n",
              "      flex-wrap:wrap;\n",
              "      gap: 12px;\n",
              "    }\n",
              "\n",
              "    .colab-df-convert {\n",
              "      background-color: #E8F0FE;\n",
              "      border: none;\n",
              "      border-radius: 50%;\n",
              "      cursor: pointer;\n",
              "      display: none;\n",
              "      fill: #1967D2;\n",
              "      height: 32px;\n",
              "      padding: 0 0 0 0;\n",
              "      width: 32px;\n",
              "    }\n",
              "\n",
              "    .colab-df-convert:hover {\n",
              "      background-color: #E2EBFA;\n",
              "      box-shadow: 0px 1px 2px rgba(60, 64, 67, 0.3), 0px 1px 3px 1px rgba(60, 64, 67, 0.15);\n",
              "      fill: #174EA6;\n",
              "    }\n",
              "\n",
              "    [theme=dark] .colab-df-convert {\n",
              "      background-color: #3B4455;\n",
              "      fill: #D2E3FC;\n",
              "    }\n",
              "\n",
              "    [theme=dark] .colab-df-convert:hover {\n",
              "      background-color: #434B5C;\n",
              "      box-shadow: 0px 1px 3px 1px rgba(0, 0, 0, 0.15);\n",
              "      filter: drop-shadow(0px 1px 2px rgba(0, 0, 0, 0.3));\n",
              "      fill: #FFFFFF;\n",
              "    }\n",
              "  </style>\n",
              "\n",
              "      <script>\n",
              "        const buttonEl =\n",
              "          document.querySelector('#df-1eb01719-3625-4bae-be3a-5ba97edc9070 button.colab-df-convert');\n",
              "        buttonEl.style.display =\n",
              "          google.colab.kernel.accessAllowed ? 'block' : 'none';\n",
              "\n",
              "        async function convertToInteractive(key) {\n",
              "          const element = document.querySelector('#df-1eb01719-3625-4bae-be3a-5ba97edc9070');\n",
              "          const dataTable =\n",
              "            await google.colab.kernel.invokeFunction('convertToInteractive',\n",
              "                                                     [key], {});\n",
              "          if (!dataTable) return;\n",
              "\n",
              "          const docLinkHtml = 'Like what you see? Visit the ' +\n",
              "            '<a target=\"_blank\" href=https://colab.research.google.com/notebooks/data_table.ipynb>data table notebook</a>'\n",
              "            + ' to learn more about interactive tables.';\n",
              "          element.innerHTML = '';\n",
              "          dataTable['output_type'] = 'display_data';\n",
              "          await google.colab.output.renderOutput(dataTable, element);\n",
              "          const docLink = document.createElement('div');\n",
              "          docLink.innerHTML = docLinkHtml;\n",
              "          element.appendChild(docLink);\n",
              "        }\n",
              "      </script>\n",
              "    </div>\n",
              "  </div>\n",
              "  "
            ]
          },
          "metadata": {},
          "execution_count": 10
        }
      ]
    },
    {
      "cell_type": "code",
      "source": [
        "print(list(dt))"
      ],
      "metadata": {
        "colab": {
          "base_uri": "https://localhost:8080/"
        },
        "id": "n-0HD9fEsOm1",
        "outputId": "8430e9be-9b56-412d-e409-ddeaccfba25e"
      },
      "execution_count": 11,
      "outputs": [
        {
          "output_type": "stream",
          "name": "stdout",
          "text": [
            "['id', 'name', 'host_id', 'host_name', 'neighbourhood_group', 'neighbourhood', 'latitude', 'longitude', 'room_type', 'price', 'minimum_nights', 'number_of_reviews', 'last_review', 'reviews_per_month', 'calculated_host_listings_count', 'availability_365']\n"
          ]
        }
      ]
    },
    {
      "cell_type": "code",
      "source": [
        "dt[dt['minimum_nights']<200]['minimum_nights'].plot(kind='kde')"
      ],
      "metadata": {
        "colab": {
          "base_uri": "https://localhost:8080/",
          "height": 283
        },
        "id": "nIIJbX-waTpr",
        "outputId": "0527a2b0-3f30-4f1c-8ecf-552486e454de"
      },
      "execution_count": 12,
      "outputs": [
        {
          "output_type": "execute_result",
          "data": {
            "text/plain": [
              "<AxesSubplot:ylabel='Density'>"
            ]
          },
          "metadata": {},
          "execution_count": 12
        },
        {
          "output_type": "display_data",
          "data": {
            "text/plain": [
              "<Figure size 432x288 with 1 Axes>"
            ],
            "image/png": "[encoded data removed]"
          },
          "metadata": {
            "needs_background": "light"
          }
        }
      ]
    },
    {
      "cell_type": "code",
      "source": [
        "dt[dt['minimum_nights']>180].count()"
      ],
      "metadata": {
        "colab": {
          "base_uri": "https://localhost:8080/"
        },
        "id": "JiDQv_yOdYdz",
        "outputId": "428d025d-0d36-43e4-8fcc-eee67d14262c"
      },
      "execution_count": 13,
      "outputs": [
        {
          "output_type": "execute_result",
          "data": {
            "text/plain": [
              "id                                54\n",
              "name                              53\n",
              "host_id                           54\n",
              "host_name                         54\n",
              "neighbourhood_group               54\n",
              "neighbourhood                     54\n",
              "latitude                          54\n",
              "longitude                         54\n",
              "room_type                         54\n",
              "price                             54\n",
              "minimum_nights                    54\n",
              "number_of_reviews                 54\n",
              "last_review                       36\n",
              "reviews_per_month                 36\n",
              "calculated_host_listings_count    54\n",
              "availability_365                  54\n",
              "dtype: int64"
            ]
          },
          "metadata": {},
          "execution_count": 13
        }
      ]
    },
    {
      "cell_type": "code",
      "source": [
        "dt['availability_365'].describe()"
      ],
      "metadata": {
        "colab": {
          "base_uri": "https://localhost:8080/"
        },
        "id": "aBAAgIXKfjlP",
        "outputId": "be36dec1-4405-42db-c57d-2b4b9b071423"
      },
      "execution_count": 14,
      "outputs": [
        {
          "output_type": "execute_result",
          "data": {
            "text/plain": [
              "count    22058.000000\n",
              "mean       103.508614\n",
              "std        132.634612\n",
              "min          0.000000\n",
              "25%          0.000000\n",
              "50%          9.000000\n",
              "75%        221.000000\n",
              "max        365.000000\n",
              "Name: availability_365, dtype: float64"
            ]
          },
          "metadata": {},
          "execution_count": 14
        }
      ]
    },
    {
      "cell_type": "code",
      "source": [
        "dt['reviews_per_month'].describe()"
      ],
      "metadata": {
        "colab": {
          "base_uri": "https://localhost:8080/"
        },
        "id": "HK66to3Pgz9f",
        "outputId": "52e851fd-db10-4b11-b219-05c2e34e4e87"
      },
      "execution_count": 15,
      "outputs": [
        {
          "output_type": "execute_result",
          "data": {
            "text/plain": [
              "count    18358.000000\n",
              "mean         0.944976\n",
              "std          1.297014\n",
              "min          0.010000\n",
              "25%          0.100000\n",
              "50%          0.360000\n",
              "75%          1.310000\n",
              "max         16.220000\n",
              "Name: reviews_per_month, dtype: float64"
            ]
          },
          "metadata": {},
          "execution_count": 15
        }
      ]
    },
    {
      "cell_type": "code",
      "source": [
        "\n",
        "dt[dt['number_of_reviews']<100]['number_of_reviews'].plot(kind='kde')"
      ],
      "metadata": {
        "colab": {
          "base_uri": "https://localhost:8080/",
          "height": 283
        },
        "id": "Tn4uV-VPjFTq",
        "outputId": "b7a8eb1b-0bde-48cb-f124-c3df3d3996e7"
      },
      "execution_count": 16,
      "outputs": [
        {
          "output_type": "execute_result",
          "data": {
            "text/plain": [
              "<AxesSubplot:ylabel='Density'>"
            ]
          },
          "metadata": {},
          "execution_count": 16
        },
        {
          "output_type": "display_data",
          "data": {
            "text/plain": [
              "<Figure size 432x288 with 1 Axes>"
            ],
            "image/png": "[encoded data removed]"
          },
          "metadata": {
            "needs_background": "light"
          }
        }
      ]
    },
    {
      "cell_type": "code",
      "source": [
        "dt[dt['number_of_reviews']>100].count()"
      ],
      "metadata": {
        "colab": {
          "base_uri": "https://localhost:8080/"
        },
        "id": "1QLsDPsemOUD",
        "outputId": "f3e3f589-8d7e-475c-afe7-03dd9c8f4a09"
      },
      "execution_count": 17,
      "outputs": [
        {
          "output_type": "execute_result",
          "data": {
            "text/plain": [
              "id                                2658\n",
              "name                              2658\n",
              "host_id                           2658\n",
              "host_name                         2656\n",
              "neighbourhood_group               2658\n",
              "neighbourhood                     2658\n",
              "latitude                          2658\n",
              "longitude                         2658\n",
              "room_type                         2658\n",
              "price                             2658\n",
              "minimum_nights                    2658\n",
              "number_of_reviews                 2658\n",
              "last_review                       2658\n",
              "reviews_per_month                 2658\n",
              "calculated_host_listings_count    2658\n",
              "availability_365                  2658\n",
              "dtype: int64"
            ]
          },
          "metadata": {},
          "execution_count": 17
        }
      ]
    },
    {
      "cell_type": "code",
      "source": [
        "dt[dt['number_of_reviews']==0].count()"
      ],
      "metadata": {
        "id": "nTdIZzU7mObc",
        "colab": {
          "base_uri": "https://localhost:8080/"
        },
        "outputId": "5e06b930-11f2-456e-f06d-1433dbb7058e"
      },
      "execution_count": 18,
      "outputs": [
        {
          "output_type": "execute_result",
          "data": {
            "text/plain": [
              "id                                3700\n",
              "name                              3690\n",
              "host_id                           3700\n",
              "host_name                         3698\n",
              "neighbourhood_group               3700\n",
              "neighbourhood                     3700\n",
              "latitude                          3700\n",
              "longitude                         3700\n",
              "room_type                         3700\n",
              "price                             3700\n",
              "minimum_nights                    3700\n",
              "number_of_reviews                 3700\n",
              "last_review                          0\n",
              "reviews_per_month                    0\n",
              "calculated_host_listings_count    3700\n",
              "availability_365                  3700\n",
              "dtype: int64"
            ]
          },
          "metadata": {},
          "execution_count": 18
        }
      ]
    },
    {
      "cell_type": "code",
      "source": [
        "dt[dt['number_of_reviews']>0]['number_of_reviews'].describe()"
      ],
      "metadata": {
        "colab": {
          "base_uri": "https://localhost:8080/"
        },
        "id": "atrMqkATjQHi",
        "outputId": "52f193f8-dc18-41d8-9772-9b02934faa73"
      },
      "execution_count": 19,
      "outputs": [
        {
          "output_type": "execute_result",
          "data": {
            "text/plain": [
              "count    18358.000000\n",
              "mean        42.997658\n",
              "std         62.031990\n",
              "min          1.000000\n",
              "25%          4.000000\n",
              "50%         15.000000\n",
              "75%         59.000000\n",
              "max        629.000000\n",
              "Name: number_of_reviews, dtype: float64"
            ]
          },
          "metadata": {},
          "execution_count": 19
        }
      ]
    },
    {
      "cell_type": "code",
      "source": [
        "dt['room_type'].value_counts()"
      ],
      "metadata": {
        "colab": {
          "base_uri": "https://localhost:8080/"
        },
        "id": "ND4Hat_pkqGc",
        "outputId": "5fd64f50-ea27-413b-9b7c-8fa0aa5c98db"
      },
      "execution_count": 20,
      "outputs": [
        {
          "output_type": "execute_result",
          "data": {
            "text/plain": [
              "Entire home/apt    12102\n",
              "Private room        9610\n",
              "Shared room          346\n",
              "Name: room_type, dtype: int64"
            ]
          },
          "metadata": {},
          "execution_count": 20
        }
      ]
    },
    {
      "cell_type": "code",
      "source": [
        "dt[dt['host_id']==244361589]"
      ],
      "metadata": {
        "colab": {
          "base_uri": "https://localhost:8080/",
          "height": 113
        },
        "id": "-CCiOFIBprDL",
        "outputId": "04040e04-af8c-4458-8bcc-4b9ce227e0af"
      },
      "execution_count": 21,
      "outputs": [
        {
          "output_type": "execute_result",
          "data": {
            "text/plain": [
              "Empty DataFrame\n",
              "Columns: [id, name, host_id, host_name, neighbourhood_group, neighbourhood, latitude, longitude, room_type, price, minimum_nights, number_of_reviews, last_review, reviews_per_month, calculated_host_listings_count, availability_365]\n",
              "Index: []"
            ],
            "text/html": [
              "\n",
              "  <div id=\"df-3cb1bd99-3f2d-496b-aa35-32d3d48dbbaa\">\n",
              "    <div class=\"colab-df-container\">\n",
              "      <div>\n",
              "<style scoped>\n",
              "    .dataframe tbody tr th:only-of-type {\n",
              "        vertical-align: middle;\n",
              "    }\n",
              "\n",
              "    .dataframe tbody tr th {\n",
              "        vertical-align: top;\n",
              "    }\n",
              "\n",
              "    .dataframe thead th {\n",
              "        text-align: right;\n",
              "    }\n",
              "</style>\n",
              "<table border=\"1\" class=\"dataframe\">\n",
              "  <thead>\n",
              "    <tr style=\"text-align: right;\">\n",
              "      <th></th>\n",
              "      <th>id</th>\n",
              "      <th>name</th>\n",
              "      <th>host_id</th>\n",
              "      <th>host_name</th>\n",
              "      <th>neighbourhood_group</th>\n",
              "      <th>neighbourhood</th>\n",
              "      <th>latitude</th>\n",
              "      <th>longitude</th>\n",
              "      <th>room_type</th>\n",
              "      <th>price</th>\n",
              "      <th>minimum_nights</th>\n",
              "      <th>number_of_reviews</th>\n",
              "      <th>last_review</th>\n",
              "      <th>reviews_per_month</th>\n",
              "      <th>calculated_host_listings_count</th>\n",
              "      <th>availability_365</th>\n",
              "    </tr>\n",
              "  </thead>\n",
              "  <tbody>\n",
              "  </tbody>\n",
              "</table>\n",
              "</div>\n",
              "      <button class=\"colab-df-convert\" onclick=\"convertToInteractive('df-3cb1bd99-3f2d-496b-aa35-32d3d48dbbaa')\"\n",
              "              title=\"Convert this dataframe to an interactive table.\"\n",
              "              style=\"display:none;\">\n",
              "        \n",
              "  <svg xmlns=\"http://www.w3.org/2000/svg\" height=\"24px\"viewBox=\"0 0 24 24\"\n",
              "       width=\"24px\">\n",
              "    <path d=\"M0 0h24v24H0V0z\" fill=\"none\"/>\n",
              "    <path d=\"M18.56 5.44l.94 2.06.94-2.06 2.06-.94-2.06-.94-.94-2.06-.94 2.06-2.06.94zm-11 1L8.5 8.5l.94-2.06 2.06-.94-2.06-.94L8.5 2.5l-.94 2.06-2.06.94zm10 10l.94 2.06.94-2.06 2.06-.94-2.06-.94-.94-2.06-.94 2.06-2.06.94z\"/><path d=\"M17.41 7.96l-1.37-1.37c-.4-.4-.92-.59-1.43-.59-.52 0-1.04.2-1.43.59L10.3 9.45l-7.72 7.72c-.78.78-.78 2.05 0 2.83L4 21.41c.39.39.9.59 1.41.59.51 0 1.02-.2 1.41-.59l7.78-7.78 2.81-2.81c.8-.78.8-2.07 0-2.86zM5.41 20L4 18.59l7.72-7.72 1.47 1.35L5.41 20z\"/>\n",
              "  </svg>\n",
              "      </button>\n",
              "      \n",
              "  <style>\n",
              "    .colab-df-container {\n",
              "      display:flex;\n",
              "      flex-wrap:wrap;\n",
              "      gap: 12px;\n",
              "    }\n",
              "\n",
              "    .colab-df-convert {\n",
              "      background-color: #E8F0FE;\n",
              "      border: none;\n",
              "      border-radius: 50%;\n",
              "      cursor: pointer;\n",
              "      display: none;\n",
              "      fill: #1967D2;\n",
              "      height: 32px;\n",
              "      padding: 0 0 0 0;\n",
              "      width: 32px;\n",
              "    }\n",
              "\n",
              "    .colab-df-convert:hover {\n",
              "      background-color: #E2EBFA;\n",
              "      box-shadow: 0px 1px 2px rgba(60, 64, 67, 0.3), 0px 1px 3px 1px rgba(60, 64, 67, 0.15);\n",
              "      fill: #174EA6;\n",
              "    }\n",
              "\n",
              "    [theme=dark] .colab-df-convert {\n",
              "      background-color: #3B4455;\n",
              "      fill: #D2E3FC;\n",
              "    }\n",
              "\n",
              "    [theme=dark] .colab-df-convert:hover {\n",
              "      background-color: #434B5C;\n",
              "      box-shadow: 0px 1px 3px 1px rgba(0, 0, 0, 0.15);\n",
              "      filter: drop-shadow(0px 1px 2px rgba(0, 0, 0, 0.3));\n",
              "      fill: #FFFFFF;\n",
              "    }\n",
              "  </style>\n",
              "\n",
              "      <script>\n",
              "        const buttonEl =\n",
              "          document.querySelector('#df-3cb1bd99-3f2d-496b-aa35-32d3d48dbbaa button.colab-df-convert');\n",
              "        buttonEl.style.display =\n",
              "          google.colab.kernel.accessAllowed ? 'block' : 'none';\n",
              "\n",
              "        async function convertToInteractive(key) {\n",
              "          const element = document.querySelector('#df-3cb1bd99-3f2d-496b-aa35-32d3d48dbbaa');\n",
              "          const dataTable =\n",
              "            await google.colab.kernel.invokeFunction('convertToInteractive',\n",
              "                                                     [key], {});\n",
              "          if (!dataTable) return;\n",
              "\n",
              "          const docLinkHtml = 'Like what you see? Visit the ' +\n",
              "            '<a target=\"_blank\" href=https://colab.research.google.com/notebooks/data_table.ipynb>data table notebook</a>'\n",
              "            + ' to learn more about interactive tables.';\n",
              "          element.innerHTML = '';\n",
              "          dataTable['output_type'] = 'display_data';\n",
              "          await google.colab.output.renderOutput(dataTable, element);\n",
              "          const docLink = document.createElement('div');\n",
              "          docLink.innerHTML = docLinkHtml;\n",
              "          element.appendChild(docLink);\n",
              "        }\n",
              "      </script>\n",
              "    </div>\n",
              "  </div>\n",
              "  "
            ]
          },
          "metadata": {},
          "execution_count": 21
        }
      ]
    },
    {
      "cell_type": "code",
      "source": [
        "dt[dt['price'].isna()]"
      ],
      "metadata": {
        "colab": {
          "base_uri": "https://localhost:8080/",
          "height": 191
        },
        "id": "h_zlocfILFGW",
        "outputId": "ebcf316c-0974-4a6f-cc68-64bd29109ec6"
      },
      "execution_count": 33,
      "outputs": [
        {
          "output_type": "execute_result",
          "data": {
            "text/plain": [
              "       latitude  longitude  price  reviews_per_month  mean_price_per_host  \\\n",
              "22058  40.86348      -73.0    NaN                0.0                199.0   \n",
              "\n",
              "       Bronx  Brooklyn  Manhattan  Queens  Staten Island  ...  \\\n",
              "22058      0         0          1       0              0  ...   \n",
              "\n",
              "       short_term_lease  professional  seasonal  vacation  multiprop  rookie  \\\n",
              "22058                 0             1         0         0          0       0   \n",
              "\n",
              "       super_host  n_days  number_of_reviews_quant  zero_reviews  \n",
              "22058           1   188.0                        4             0  \n",
              "\n",
              "[1 rows x 230 columns]"
            ],
            "text/html": [
              "\n",
              "  <div id=\"df-f1a08cd7-eb05-4e82-b9b7-60793d119d36\">\n",
              "    <div class=\"colab-df-container\">\n",
              "      <div>\n",
              "<style scoped>\n",
              "    .dataframe tbody tr th:only-of-type {\n",
              "        vertical-align: middle;\n",
              "    }\n",
              "\n",
              "    .dataframe tbody tr th {\n",
              "        vertical-align: top;\n",
              "    }\n",
              "\n",
              "    .dataframe thead th {\n",
              "        text-align: right;\n",
              "    }\n",
              "</style>\n",
              "<table border=\"1\" class=\"dataframe\">\n",
              "  <thead>\n",
              "    <tr style=\"text-align: right;\">\n",
              "      <th></th>\n",
              "      <th>latitude</th>\n",
              "      <th>longitude</th>\n",
              "      <th>price</th>\n",
              "      <th>reviews_per_month</th>\n",
              "      <th>mean_price_per_host</th>\n",
              "      <th>Bronx</th>\n",
              "      <th>Brooklyn</th>\n",
              "      <th>Manhattan</th>\n",
              "      <th>Queens</th>\n",
              "      <th>Staten Island</th>\n",
              "      <th>...</th>\n",
              "      <th>short_term_lease</th>\n",
              "      <th>professional</th>\n",
              "      <th>seasonal</th>\n",
              "      <th>vacation</th>\n",
              "      <th>multiprop</th>\n",
              "      <th>rookie</th>\n",
              "      <th>super_host</th>\n",
              "      <th>n_days</th>\n",
              "      <th>number_of_reviews_quant</th>\n",
              "      <th>zero_reviews</th>\n",
              "    </tr>\n",
              "  </thead>\n",
              "  <tbody>\n",
              "    <tr>\n",
              "      <th>22058</th>\n",
              "      <td>40.86348</td>\n",
              "      <td>-73.0</td>\n",
              "      <td>NaN</td>\n",
              "      <td>0.0</td>\n",
              "      <td>199.0</td>\n",
              "      <td>0</td>\n",
              "      <td>0</td>\n",
              "      <td>1</td>\n",
              "      <td>0</td>\n",
              "      <td>0</td>\n",
              "      <td>...</td>\n",
              "      <td>0</td>\n",
              "      <td>1</td>\n",
              "      <td>0</td>\n",
              "      <td>0</td>\n",
              "      <td>0</td>\n",
              "      <td>0</td>\n",
              "      <td>1</td>\n",
              "      <td>188.0</td>\n",
              "      <td>4</td>\n",
              "      <td>0</td>\n",
              "    </tr>\n",
              "  </tbody>\n",
              "</table>\n",
              "<p>1 rows × 230 columns</p>\n",
              "</div>\n",
              "      <button class=\"colab-df-convert\" onclick=\"convertToInteractive('df-f1a08cd7-eb05-4e82-b9b7-60793d119d36')\"\n",
              "              title=\"Convert this dataframe to an interactive table.\"\n",
              "              style=\"display:none;\">\n",
              "        \n",
              "  <svg xmlns=\"http://www.w3.org/2000/svg\" height=\"24px\"viewBox=\"0 0 24 24\"\n",
              "       width=\"24px\">\n",
              "    <path d=\"M0 0h24v24H0V0z\" fill=\"none\"/>\n",
              "    <path d=\"M18.56 5.44l.94 2.06.94-2.06 2.06-.94-2.06-.94-.94-2.06-.94 2.06-2.06.94zm-11 1L8.5 8.5l.94-2.06 2.06-.94-2.06-.94L8.5 2.5l-.94 2.06-2.06.94zm10 10l.94 2.06.94-2.06 2.06-.94-2.06-.94-.94-2.06-.94 2.06-2.06.94z\"/><path d=\"M17.41 7.96l-1.37-1.37c-.4-.4-.92-.59-1.43-.59-.52 0-1.04.2-1.43.59L10.3 9.45l-7.72 7.72c-.78.78-.78 2.05 0 2.83L4 21.41c.39.39.9.59 1.41.59.51 0 1.02-.2 1.41-.59l7.78-7.78 2.81-2.81c.8-.78.8-2.07 0-2.86zM5.41 20L4 18.59l7.72-7.72 1.47 1.35L5.41 20z\"/>\n",
              "  </svg>\n",
              "      </button>\n",
              "      \n",
              "  <style>\n",
              "    .colab-df-container {\n",
              "      display:flex;\n",
              "      flex-wrap:wrap;\n",
              "      gap: 12px;\n",
              "    }\n",
              "\n",
              "    .colab-df-convert {\n",
              "      background-color: #E8F0FE;\n",
              "      border: none;\n",
              "      border-radius: 50%;\n",
              "      cursor: pointer;\n",
              "      display: none;\n",
              "      fill: #1967D2;\n",
              "      height: 32px;\n",
              "      padding: 0 0 0 0;\n",
              "      width: 32px;\n",
              "    }\n",
              "\n",
              "    .colab-df-convert:hover {\n",
              "      background-color: #E2EBFA;\n",
              "      box-shadow: 0px 1px 2px rgba(60, 64, 67, 0.3), 0px 1px 3px 1px rgba(60, 64, 67, 0.15);\n",
              "      fill: #174EA6;\n",
              "    }\n",
              "\n",
              "    [theme=dark] .colab-df-convert {\n",
              "      background-color: #3B4455;\n",
              "      fill: #D2E3FC;\n",
              "    }\n",
              "\n",
              "    [theme=dark] .colab-df-convert:hover {\n",
              "      background-color: #434B5C;\n",
              "      box-shadow: 0px 1px 3px 1px rgba(0, 0, 0, 0.15);\n",
              "      filter: drop-shadow(0px 1px 2px rgba(0, 0, 0, 0.3));\n",
              "      fill: #FFFFFF;\n",
              "    }\n",
              "  </style>\n",
              "\n",
              "      <script>\n",
              "        const buttonEl =\n",
              "          document.querySelector('#df-f1a08cd7-eb05-4e82-b9b7-60793d119d36 button.colab-df-convert');\n",
              "        buttonEl.style.display =\n",
              "          google.colab.kernel.accessAllowed ? 'block' : 'none';\n",
              "\n",
              "        async function convertToInteractive(key) {\n",
              "          const element = document.querySelector('#df-f1a08cd7-eb05-4e82-b9b7-60793d119d36');\n",
              "          const dataTable =\n",
              "            await google.colab.kernel.invokeFunction('convertToInteractive',\n",
              "                                                     [key], {});\n",
              "          if (!dataTable) return;\n",
              "\n",
              "          const docLinkHtml = 'Like what you see? Visit the ' +\n",
              "            '<a target=\"_blank\" href=https://colab.research.google.com/notebooks/data_table.ipynb>data table notebook</a>'\n",
              "            + ' to learn more about interactive tables.';\n",
              "          element.innerHTML = '';\n",
              "          dataTable['output_type'] = 'display_data';\n",
              "          await google.colab.output.renderOutput(dataTable, element);\n",
              "          const docLink = document.createElement('div');\n",
              "          docLink.innerHTML = docLinkHtml;\n",
              "          element.appendChild(docLink);\n",
              "        }\n",
              "      </script>\n",
              "    </div>\n",
              "  </div>\n",
              "  "
            ]
          },
          "metadata": {},
          "execution_count": 33
        }
      ]
    },
    {
      "cell_type": "markdown",
      "source": [
        "## FEATURE ENGINEERING"
      ],
      "metadata": {
        "id": "BCkkmJ_VwSeW"
      }
    },
    {
      "cell_type": "markdown",
      "source": [
        "columns to create:\n",
        "\n",
        "'id': leave, potentially drop it at the end. \n",
        "\n",
        "'name': leave, potentially drop it at the end.\n",
        "\n",
        "'host_id': add column with avg price host listing, then drop it; YU\n",
        "\n",
        "'host_name': leave potentially drop\n",
        "\n",
        "'neighbourhood_group': one hot encode YU\n",
        "\n",
        "'neighbourhood': one hot encode YU\n",
        "\n",
        "'latitude', 'longitude': leave\n",
        "\n",
        "'room_type': one hot encode YU\n",
        "\n",
        "'price': target variable, leave\n",
        "\n",
        "'minimum_nights': one hot encoding in categories. 1-30 days (vacation), 30-360 days (short term lease), >360 (long term) YU\n",
        "\n",
        "'number_of_reviews': quantile encoding + \"0 reviews column\" LU\n",
        "\n",
        "'**last_review**': number of days since 2019/07/08 LU\n",
        "\n",
        "'reviews_per_month': null values as 0 and normalize LU \n",
        "\n",
        "'**calculated_host_listings_count**': one hot encoding for number of listings (1,2-10, >10) LU\n",
        "\n",
        "'**availability_365**': encode -  event (< 30 days), seasonal (30-180 days), professional (>180 days) LU\n",
        "\n",
        "\n",
        "\n"
      ],
      "metadata": {
        "id": "LZyewI_RaSax"
      }
    },
    {
      "cell_type": "code",
      "source": [
        "#DEFINE THE CATEGORY THRESHOLDS: \n",
        "\n",
        "#MIN NIGHTS: we want to define three categories based on client behavior\n",
        "#1-30 days = vacation\n",
        "#30-360 days = short term lease\n",
        "#>360 days = long term lease\n",
        "vacation_threshold = 30\n",
        "short_term_threshold = 360\n",
        "\n",
        "\n",
        "#AVAILABILITY_36: we want to define three categories based on renter behavior\n",
        "#1-30 days = event\n",
        "#30-180 days = seasonal\n",
        "#>180 days = professional\n",
        "event_threshold = 30\n",
        "seasonal_threshold = 180\n",
        "\n",
        "#CALCULATED HOST LISTING COUNT: we want to define three categories based on renter behavior\n",
        "#1 listing: rookie host\n",
        "#2-10 listings: multi property host\n",
        "#>10 listings: super host\n",
        "rookie_threshold = 1\n",
        "multiprop_threshold = 10\n"
      ],
      "metadata": {
        "id": "OA4QJPuvYooL"
      },
      "execution_count": 4,
      "outputs": []
    },
    {
      "cell_type": "code",
      "source": [
        "#MAPPING FUNCTIONS\n",
        "# create a function to map the min_nights values to the appropriate category\n",
        "def categorize_min_nights(nights):\n",
        "    if nights <= event_threshold:\n",
        "        return 'event'\n",
        "    elif nights <= short_term_threshold:\n",
        "        return 'short_term_lease'\n",
        "    else:\n",
        "        return 'long_term'\n",
        "\n",
        "# create a function to map the availability_365 values to the appropriate category\n",
        "def categorize_availabilty(days):\n",
        "    if days <= vacation_threshold:\n",
        "        return 'vacation'\n",
        "    elif days <= seasonal_threshold:\n",
        "        return 'seasonal'\n",
        "    else:\n",
        "        return 'professional'\n",
        "\n",
        "# create a function to map the number of listings values to the appropriate category\n",
        "def categorize_listing_count(listing):\n",
        "    if listing == rookie_threshold:\n",
        "        return 'rookie'\n",
        "    elif listing <= multiprop_threshold:\n",
        "        return 'multiprop'\n",
        "    else:\n",
        "        return 'super_host'"
      ],
      "metadata": {
        "id": "fVdYvMXRaXup"
      },
      "execution_count": 5,
      "outputs": []
    },
    {
      "cell_type": "markdown",
      "source": [
        "## PREPROCESSING"
      ],
      "metadata": {
        "id": "cFstiHJkImP4"
      }
    },
    {
      "cell_type": "code",
      "source": [
        "\n",
        "def preprocessing(data):\n",
        "    df = data.copy()\n",
        "    \n",
        "    #VARIABLE - HOST ID\n",
        "    # Calculate the mean price for each host_id\n",
        "    host_means = df.groupby('host_id')['price'].mean()\n",
        "\n",
        "    # Map the host means to the host_id column\n",
        "    df['mean_price_per_host'] = df['host_id'].map(host_means)\n",
        "    \n",
        "    #VARIABLES TO HOT ENCODE: minimum_nights, availability_365, calculated_host_listings_count, neighbourhood_group, neighbourhood, room_type \n",
        "    # apply the categorize_min_nights function to the minimum_nights column and create one hot encoded columns\n",
        "    df['min_nights_category'] = df['minimum_nights'].apply(categorize_min_nights)\n",
        "    df['availability_365_category'] = df['availability_365'].apply(categorize_availabilty)\n",
        "    df['listing_category'] = df['calculated_host_listings_count'].apply(categorize_listing_count)\n",
        "    \n",
        "    one_hot_encode_columns = ['neighbourhood_group', 'neighbourhood', \"room_type\",'min_nights_category','availability_365_category','listing_category']\n",
        "    \n",
        "    #one hot encoding variables\n",
        "    for i in one_hot_encode_columns:\n",
        "        one_hot_encoded = pd.get_dummies(df[i])\n",
        "        df = pd.concat([df, one_hot_encoded], axis=1)\n",
        "    \n",
        "    #VARIABLE - LAST REVIEW\n",
        "    #transforming column into datetime type\n",
        "    df['last_review'] = pd.to_datetime(df['last_review'])\n",
        "    #reference day to compute days from\n",
        "    day = datetime.datetime(2019, 7, 8)\n",
        "\n",
        "    #computing the number of days since the last review\n",
        "    df['n_days'] = (day - df['last_review'])/np.timedelta64(1, 'D')\n",
        "\n",
        "    #filling the missing values with the median \n",
        "    df['n_days'] = df['n_days'].fillna(df['n_days'].median())\n",
        "    \n",
        "    #normalizing it\n",
        "    df['n_days_log'] = np.log10(df['n_days']+1)\n",
        "    df= df.drop(columns=['n_days'])\n",
        "\n",
        "    #VARIABLE - REVIEWS PER MONTH\n",
        "    #filling the missing values\n",
        "    df['reviews_per_month'] = df['reviews_per_month'].fillna(0)\n",
        "\n",
        "    #detecting the outliers\n",
        "    Q1_rev = df['reviews_per_month'].quantile(0.25)\n",
        "    Q3_rev = df['reviews_per_month'].quantile(0.75)\n",
        "    IQR = Q3_rev - Q1_rev\n",
        "    whisker_width = 1.5\n",
        "    upper_whisker = Q3_rev + (whisker_width*IQR)\n",
        "\n",
        "    #capping the outliers\n",
        "    df.loc[df['reviews_per_month'] > upper_whisker, 'reviews_per_month'] = upper_whisker\n",
        "\n",
        "    #VARIABLE - NUMBER OF REVIEWS\n",
        "    #quantile encoding\n",
        "    Q1 = df['number_of_reviews'].quantile(0.25)\n",
        "    Q2 = df['number_of_reviews'].quantile(0.5)\n",
        "    Q3 = df['number_of_reviews'].quantile(0.75)\n",
        "\n",
        "    df['number_of_reviews_quant'] = np.where((df.number_of_reviews <= Q1), 1,   \n",
        "                 np.where((df.number_of_reviews>Q1) & (df.number_of_reviews<=Q2), 2,\n",
        "                  np.where((df.number_of_reviews>Q2) & (df.number_of_reviews<=Q3), 3,\n",
        "                    4)))  \n",
        "    \n",
        "    #keeping track of the rows with no reviews\n",
        "    df['zero_reviews'] = np.where(df.number_of_reviews == 0,1,0) \n",
        "\n",
        "    #remove the outliers or prices\n",
        "    Q1_p= df['price'].quantile(0.25)\n",
        "    Q3_p = df['price'].quantile(0.75)\n",
        "    IR = (Q3_p-Q1_p)*1.5\n",
        "    df = df[df['price']<Q3_p+IR]\n",
        "\n",
        "\n",
        "\n",
        "    #dropping the columns that are no longer needed\n",
        "    df = df.drop(['id', 'name', \"host_id\", \"host_name\", 'neighbourhood_group', 'neighbourhood', \"room_type\", 'min_nights_category','availability_365_category','listing_category','minimum_nights','availability_365','calculated_host_listings_count','last_review','number_of_reviews' ], axis = 1)\n",
        "    \n",
        "    return df"
      ],
      "metadata": {
        "id": "z9L1gTxioF3I"
      },
      "execution_count": 6,
      "outputs": []
    },
    {
      "cell_type": "code",
      "source": [
        "dt = preprocessing(dt)\n"
      ],
      "metadata": {
        "id": "CePdS9gCXHPg"
      },
      "execution_count": 7,
      "outputs": []
    },
    {
      "cell_type": "markdown",
      "source": [
        "## TRAIN TEST SPLIT"
      ],
      "metadata": {
        "id": "mPl4X_2EITQZ"
      }
    },
    {
      "cell_type": "code",
      "source": [
        "X_df = dt.drop(columns=['price'])\n",
        "y_df = dt['price']"
      ],
      "metadata": {
        "id": "0cWGGkVVfujf"
      },
      "execution_count": 8,
      "outputs": []
    },
    {
      "cell_type": "code",
      "source": [
        "X_train, X_test, y_train, y_test = train_test_split(X_df, y_df, test_size=0.20, random_state=100)"
      ],
      "metadata": {
        "id": "29b-aRnYXUiD"
      },
      "execution_count": 9,
      "outputs": []
    },
    {
      "cell_type": "markdown",
      "source": [
        "# Helper functions"
      ],
      "metadata": {
        "id": "vzrmUe-Titw9"
      }
    },
    {
      "cell_type": "code",
      "source": [
        "def get_cartesian(lat=None,lon=None):\n",
        "    '''\n",
        "    Converts latitude and longitude arrays into (x,y,z) coordinates\n",
        "    Input :\n",
        "          latitude as array\n",
        "          longitude as array\n",
        "    Output :\n",
        "          x,y,z cartesian coordinates\n",
        "    '''\n",
        "    # Change degrees to radians\n",
        "    lat, lon = np.deg2rad(lat), np.deg2rad(lon)\n",
        "    R = 1 # radius of the earth = 6371 km but not needed as we will normalize\n",
        "\n",
        "    # Convert to cartesian\n",
        "    x = R * np.cos(lat) * np.cos(lon)\n",
        "    y = R * np.cos(lat) * np.sin(lon)\n",
        "    z = R *np.sin(lat)\n",
        "\n",
        "    return x,y,z\n",
        "\n",
        "\n",
        "\n",
        "def scores(y_true,y_pred, plot=False):\n",
        "  '''\n",
        "  Compute MAE, MSE, RMSE, R2 and MAPE scores and plot prediction errors\n",
        "  Inputs :\n",
        "        y_true : true target values\n",
        "        y_pred : predictions\n",
        "        plot: if True plots errors\n",
        "  Outputs:\n",
        "        A score dictionary containing the computed metrics\n",
        "  '''\n",
        "  #Compute MAE, MSE, RMSE, R2 and MAPE scores\n",
        "  mae = mean_absolute_error(y_true=y_true, y_pred=y_pred)\n",
        "  mse = mean_squared_error(y_true=y_true, y_pred=y_pred)\n",
        "  rmse = mean_squared_error(y_true=y_true, y_pred=y_pred, squared=False)\n",
        "  r2 = r2_score(y_true=y_true, y_pred=y_pred)\n",
        "  mape = mean_absolute_percentage_error(y_true=y_true, y_pred=y_pred)\n",
        "  error_ratio_rmse = rmse/np.mean(y_true)\n",
        "  error_ratio_mae = mae/np.mean(y_true)\n",
        "\n",
        "  # Plot the obtained errors and residuals if plot argument is set to True\n",
        "  if plot:\n",
        "      fig, axs = plt.subplots(ncols=2,figsize=(15,5))\n",
        "      x = np.arange(np.amin(y_true),np.amax(y_true))\n",
        "      axs[0].scatter(y_pred,y_true,label=\"actual_vs_predicted\")\n",
        "      axs[0].plot(x,x,color='black',linestyle='dashed')\n",
        "      axs[0].set_title(\"Actual vs. Predicted values\")\n",
        "      axs[0].set_ylabel(\"Actual\")\n",
        "      axs[0].set_xlabel(\"Predicted\")\n",
        "      axs[1].scatter(y_pred,y_true-y_pred,label=\"residual_vs_predicted\")\n",
        "      axs[1].plot(x,[0]*len(x),color='black',linestyle='dashed')\n",
        "      axs[1].set_title(\"Residuals vs. Predicted Values\")\n",
        "      axs[1].set_ylabel(\"Residuals (Actuals-Predictions)\")\n",
        "      axs[1].set_xlabel(\"Predicted\")\n",
        "      fig.suptitle(\"Prediction errors\")\n",
        "      plt.show()\n",
        "\n",
        "  # Print the scores\n",
        "  print(f'R²: {r2}')\n",
        "  print(f'MAE: {mae}')\n",
        "  print(f'MSE: {mse}')\n",
        "  print(f'RMSE: {rmse}')\n",
        "  print(f'MAPE: {mape}')\n",
        "  print(f'error_ratio_rmse: {error_ratio_rmse}')\n",
        "  print(f'error_ratio_mae: {error_ratio_mae}')\n",
        "\n",
        "  #Return the scores in a dictionary\n",
        "  scores = {\n",
        "            'R2': r2,\n",
        "            'MAE': mae,\n",
        "            'MSE': mse,\n",
        "            'RMSE': rmse,\n",
        "            'MAPE': mape,\n",
        "            'error_ratio_rmse': error_ratio_rmse,\n",
        "            'error_ratio_mae': error_ratio_mae,\n",
        "            }\n",
        "\n",
        "  return scores"
      ],
      "metadata": {
        "id": "LagE7xyGXUWW"
      },
      "execution_count": 10,
      "outputs": []
    },
    {
      "cell_type": "markdown",
      "source": [
        "# Models"
      ],
      "metadata": {
        "id": "DHg49NkLn0q_"
      }
    },
    {
      "cell_type": "markdown",
      "source": [
        "## 4. Random Forest"
      ],
      "metadata": {
        "id": "tyko-IYuj9le"
      }
    },
    {
      "cell_type": "code",
      "source": [
        "# Training\n",
        "rf = RandomForestRegressor(n_estimators = 300, max_features = 'sqrt', max_depth = 20, random_state = 18).fit(X_train, y_train)"
      ],
      "metadata": {
        "id": "ts3qVxK3hmj-"
      },
      "execution_count": 11,
      "outputs": []
    },
    {
      "cell_type": "code",
      "source": [
        "y_pred_random_forest = rf.predict(X_test)\n",
        "random_forest_scores=scores(y_test,y_pred_random_forest,plot=True)"
      ],
      "metadata": {
        "colab": {
          "base_uri": "https://localhost:8080/",
          "height": 495
        },
        "id": "3CgS9ZaPhmqq",
        "outputId": "50da9690-9922-4556-be66-c39618827dc6"
      },
      "execution_count": 12,
      "outputs": [
        {
          "output_type": "display_data",
          "data": {
            "text/plain": [
              "<Figure size 1080x360 with 2 Axes>"
            ],
            "image/png": "[encoded data removed]"
          },
          "metadata": {
            "needs_background": "light"
          }
        },
        {
          "output_type": "stream",
          "name": "stdout",
          "text": [
            "R²: 0.8544675933478816\n",
            "MAE: 16.95487522861853\n",
            "MSE: 672.3928725696353\n",
            "RMSE: 25.93053938061519\n",
            "MAPE: 80756105285869.47\n",
            "error_ratio_rmse: 0.21628034688213316\n",
            "error_ratio_mae: 0.14141650668980046\n"
          ]
        }
      ]
    },
    {
      "cell_type": "code",
      "source": [
        "# cross_validation\n",
        "cv_result = cross_validate(rf, X_train, y_train,scoring=('r2', 'neg_mean_squared_error','neg_mean_absolute_error','neg_mean_absolute_percentage_error'))\n",
        "pd.DataFrame(cv_result)"
      ],
      "metadata": {
        "colab": {
          "base_uri": "https://localhost:8080/",
          "height": 206
        },
        "id": "z4sc_0cYhmx-",
        "outputId": "d43de38f-496f-4937-a6b5-69fc62b3182a"
      },
      "execution_count": 13,
      "outputs": [
        {
          "output_type": "execute_result",
          "data": {
            "text/plain": [
              "    fit_time  score_time   test_r2  test_neg_mean_squared_error  \\\n",
              "0  22.353777    0.670535  0.847196                  -722.232895   \n",
              "1  23.514596    0.691787  0.851063                  -693.028530   \n",
              "2  23.183028    0.654677  0.853693                  -673.167077   \n",
              "3  23.199605    0.588468  0.861765                  -645.132358   \n",
              "4  21.410883    0.622437  0.855332                  -661.576026   \n",
              "\n",
              "   test_neg_mean_absolute_error  test_neg_mean_absolute_percentage_error  \n",
              "0                    -17.654910                            -5.326169e+13  \n",
              "1                    -17.521452                            -5.287194e+13  \n",
              "2                    -17.045356                            -7.079122e+13  \n",
              "3                    -16.541244                            -1.707059e-01  \n",
              "4                    -16.734660                            -1.526403e+14  "
            ],
            "text/html": [
              "\n",
              "  <div id=\"df-78c82f59-0893-4995-9505-2b6464e384f7\">\n",
              "    <div class=\"colab-df-container\">\n",
              "      <div>\n",
              "<style scoped>\n",
              "    .dataframe tbody tr th:only-of-type {\n",
              "        vertical-align: middle;\n",
              "    }\n",
              "\n",
              "    .dataframe tbody tr th {\n",
              "        vertical-align: top;\n",
              "    }\n",
              "\n",
              "    .dataframe thead th {\n",
              "        text-align: right;\n",
              "    }\n",
              "</style>\n",
              "<table border=\"1\" class=\"dataframe\">\n",
              "  <thead>\n",
              "    <tr style=\"text-align: right;\">\n",
              "      <th></th>\n",
              "      <th>fit_time</th>\n",
              "      <th>score_time</th>\n",
              "      <th>test_r2</th>\n",
              "      <th>test_neg_mean_squared_error</th>\n",
              "      <th>test_neg_mean_absolute_error</th>\n",
              "      <th>test_neg_mean_absolute_percentage_error</th>\n",
              "    </tr>\n",
              "  </thead>\n",
              "  <tbody>\n",
              "    <tr>\n",
              "      <th>0</th>\n",
              "      <td>22.353777</td>\n",
              "      <td>0.670535</td>\n",
              "      <td>0.847196</td>\n",
              "      <td>-722.232895</td>\n",
              "      <td>-17.654910</td>\n",
              "      <td>-5.326169e+13</td>\n",
              "    </tr>\n",
              "    <tr>\n",
              "      <th>1</th>\n",
              "      <td>23.514596</td>\n",
              "      <td>0.691787</td>\n",
              "      <td>0.851063</td>\n",
              "      <td>-693.028530</td>\n",
              "      <td>-17.521452</td>\n",
              "      <td>-5.287194e+13</td>\n",
              "    </tr>\n",
              "    <tr>\n",
              "      <th>2</th>\n",
              "      <td>23.183028</td>\n",
              "      <td>0.654677</td>\n",
              "      <td>0.853693</td>\n",
              "      <td>-673.167077</td>\n",
              "      <td>-17.045356</td>\n",
              "      <td>-7.079122e+13</td>\n",
              "    </tr>\n",
              "    <tr>\n",
              "      <th>3</th>\n",
              "      <td>23.199605</td>\n",
              "      <td>0.588468</td>\n",
              "      <td>0.861765</td>\n",
              "      <td>-645.132358</td>\n",
              "      <td>-16.541244</td>\n",
              "      <td>-1.707059e-01</td>\n",
              "    </tr>\n",
              "    <tr>\n",
              "      <th>4</th>\n",
              "      <td>21.410883</td>\n",
              "      <td>0.622437</td>\n",
              "      <td>0.855332</td>\n",
              "      <td>-661.576026</td>\n",
              "      <td>-16.734660</td>\n",
              "      <td>-1.526403e+14</td>\n",
              "    </tr>\n",
              "  </tbody>\n",
              "</table>\n",
              "</div>\n",
              "      <button class=\"colab-df-convert\" onclick=\"convertToInteractive('df-78c82f59-0893-4995-9505-2b6464e384f7')\"\n",
              "              title=\"Convert this dataframe to an interactive table.\"\n",
              "              style=\"display:none;\">\n",
              "        \n",
              "  <svg xmlns=\"http://www.w3.org/2000/svg\" height=\"24px\"viewBox=\"0 0 24 24\"\n",
              "       width=\"24px\">\n",
              "    <path d=\"M0 0h24v24H0V0z\" fill=\"none\"/>\n",
              "    <path d=\"M18.56 5.44l.94 2.06.94-2.06 2.06-.94-2.06-.94-.94-2.06-.94 2.06-2.06.94zm-11 1L8.5 8.5l.94-2.06 2.06-.94-2.06-.94L8.5 2.5l-.94 2.06-2.06.94zm10 10l.94 2.06.94-2.06 2.06-.94-2.06-.94-.94-2.06-.94 2.06-2.06.94z\"/><path d=\"M17.41 7.96l-1.37-1.37c-.4-.4-.92-.59-1.43-.59-.52 0-1.04.2-1.43.59L10.3 9.45l-7.72 7.72c-.78.78-.78 2.05 0 2.83L4 21.41c.39.39.9.59 1.41.59.51 0 1.02-.2 1.41-.59l7.78-7.78 2.81-2.81c.8-.78.8-2.07 0-2.86zM5.41 20L4 18.59l7.72-7.72 1.47 1.35L5.41 20z\"/>\n",
              "  </svg>\n",
              "      </button>\n",
              "      \n",
              "  <style>\n",
              "    .colab-df-container {\n",
              "      display:flex;\n",
              "      flex-wrap:wrap;\n",
              "      gap: 12px;\n",
              "    }\n",
              "\n",
              "    .colab-df-convert {\n",
              "      background-color: #E8F0FE;\n",
              "      border: none;\n",
              "      border-radius: 50%;\n",
              "      cursor: pointer;\n",
              "      display: none;\n",
              "      fill: #1967D2;\n",
              "      height: 32px;\n",
              "      padding: 0 0 0 0;\n",
              "      width: 32px;\n",
              "    }\n",
              "\n",
              "    .colab-df-convert:hover {\n",
              "      background-color: #E2EBFA;\n",
              "      box-shadow: 0px 1px 2px rgba(60, 64, 67, 0.3), 0px 1px 3px 1px rgba(60, 64, 67, 0.15);\n",
              "      fill: #174EA6;\n",
              "    }\n",
              "\n",
              "    [theme=dark] .colab-df-convert {\n",
              "      background-color: #3B4455;\n",
              "      fill: #D2E3FC;\n",
              "    }\n",
              "\n",
              "    [theme=dark] .colab-df-convert:hover {\n",
              "      background-color: #434B5C;\n",
              "      box-shadow: 0px 1px 3px 1px rgba(0, 0, 0, 0.15);\n",
              "      filter: drop-shadow(0px 1px 2px rgba(0, 0, 0, 0.3));\n",
              "      fill: #FFFFFF;\n",
              "    }\n",
              "  </style>\n",
              "\n",
              "      <script>\n",
              "        const buttonEl =\n",
              "          document.querySelector('#df-78c82f59-0893-4995-9505-2b6464e384f7 button.colab-df-convert');\n",
              "        buttonEl.style.display =\n",
              "          google.colab.kernel.accessAllowed ? 'block' : 'none';\n",
              "\n",
              "        async function convertToInteractive(key) {\n",
              "          const element = document.querySelector('#df-78c82f59-0893-4995-9505-2b6464e384f7');\n",
              "          const dataTable =\n",
              "            await google.colab.kernel.invokeFunction('convertToInteractive',\n",
              "                                                     [key], {});\n",
              "          if (!dataTable) return;\n",
              "\n",
              "          const docLinkHtml = 'Like what you see? Visit the ' +\n",
              "            '<a target=\"_blank\" href=https://colab.research.google.com/notebooks/data_table.ipynb>data table notebook</a>'\n",
              "            + ' to learn more about interactive tables.';\n",
              "          element.innerHTML = '';\n",
              "          dataTable['output_type'] = 'display_data';\n",
              "          await google.colab.output.renderOutput(dataTable, element);\n",
              "          const docLink = document.createElement('div');\n",
              "          docLink.innerHTML = docLinkHtml;\n",
              "          element.appendChild(docLink);\n",
              "        }\n",
              "      </script>\n",
              "    </div>\n",
              "  </div>\n",
              "  "
            ]
          },
          "metadata": {},
          "execution_count": 13
        }
      ]
    },
    {
      "cell_type": "markdown",
      "source": [
        "## 5. XGBOOST"
      ],
      "metadata": {
        "id": "_5HntxvakAiN"
      }
    },
    {
      "cell_type": "code",
      "source": [
        "# Before tuning\n",
        "#xgb = xg.XGBRegressor(n_estimators=1000, learning_rate=0.01).fit(X_train, y_train)\n",
        "# After hyper-parameter tuning using bayesian search(see below blocks)\n",
        "xgb = xg.XGBRegressor(n_estimators=180, colsample_bytree=0.534145326940449, gamma=1.013878917680906, max_depth=18, min_child_weight=1, reg_alpha=58, reg_lambda=0.8886087308195848, seed=0).fit(X_train, y_train)\n",
        "\n",
        "#xgb = xg.XGBRegressor(n_estimators=258, colsample_bytree=0.8989653194310321, gamma=1.013878917680906, max_depth=18, min_child_weight=1, reg_alpha=58, reg_lambda=0.8886087308195848, seed=0).fit(X_train, y_train)\n"
      ],
      "metadata": {
        "id": "kj_44dNBhvgb"
      },
      "execution_count": 14,
      "outputs": []
    },
    {
      "cell_type": "code",
      "source": [
        "y_pred_xgb = xgb.predict(X_test)\n",
        "xgb_scores=scores(y_test,y_pred_xgb,plot= True)"
      ],
      "metadata": {
        "colab": {
          "base_uri": "https://localhost:8080/",
          "height": 495
        },
        "id": "z_UtnAJuhvj4",
        "outputId": "eb6ecc09-3e1c-462a-afa8-c57c16982c4f"
      },
      "execution_count": 40,
      "outputs": [
        {
          "output_type": "display_data",
          "data": {
            "text/plain": [
              "<Figure size 1080x360 with 2 Axes>"
            ],
            "image/png": "[encoded data removed]"
          },
          "metadata": {
            "needs_background": "light"
          }
        },
        {
          "output_type": "stream",
          "name": "stdout",
          "text": [
            "R²: 0.9167099313403475\n",
            "MAE: 8.669377109133201\n",
            "MSE: 384.81909157496034\n",
            "RMSE: 19.61680635513743\n",
            "MAPE: 27578230527850.227\n",
            "error_ratio_rmse: 0.1636190293203265\n",
            "error_ratio_mae: 0.07230917417078693\n"
          ]
        }
      ]
    },
    {
      "cell_type": "code",
      "source": [
        "imp_feat = xgb.feature_importances_\n",
        "sorted = np.argsort(imp_feat)"
      ],
      "metadata": {
        "id": "bO5AtX0S8kYD"
      },
      "execution_count": 30,
      "outputs": []
    },
    {
      "cell_type": "code",
      "source": [
        "sorted = np.sort(imp_feat)\n",
        "\n",
        "ind_median = round(len(sorted)/2)\n",
        "\n",
        "median = sorted[ind_median]\n",
        "\n",
        "print(median)"
      ],
      "metadata": {
        "id": "L70TI4RoN5Lk",
        "outputId": "69423b89-be89-4654-a930-7686a7e1893a",
        "colab": {
          "base_uri": "https://localhost:8080/"
        }
      },
      "execution_count": 54,
      "outputs": [
        {
          "output_type": "stream",
          "name": "stdout",
          "text": [
            "0.000367821\n"
          ]
        }
      ]
    },
    {
      "cell_type": "code",
      "source": [
        "print(len(imp_feat))\n",
        "print(len(list(X_train)))"
      ],
      "metadata": {
        "id": "lC3-FBdwH7Di",
        "outputId": "ff6b4560-5168-43e2-a619-f62d79ce3319",
        "colab": {
          "base_uri": "https://localhost:8080/"
        }
      },
      "execution_count": 36,
      "outputs": [
        {
          "output_type": "stream",
          "name": "stdout",
          "text": [
            "245\n",
            "245\n"
          ]
        }
      ]
    },
    {
      "cell_type": "code",
      "source": [
        "avg = imp_feat.mean()\n",
        "print(avg)"
      ],
      "metadata": {
        "id": "nUEBueul95w9",
        "outputId": "0d7612f1-d0fb-4bf5-ab7a-8c399ca8cdad",
        "colab": {
          "base_uri": "https://localhost:8080/"
        }
      },
      "execution_count": 37,
      "outputs": [
        {
          "output_type": "stream",
          "name": "stdout",
          "text": [
            "0.0040816325\n"
          ]
        }
      ]
    },
    {
      "cell_type": "code",
      "source": [
        "important = []\n",
        "l = list(X_train)\n",
        "for i in range(len(imp_feat)):\n",
        "  important.append([imp_feat[i],l[i]])\n",
        "\n",
        "for x in important:\n",
        "  if x[0]>:\n",
        "    print(x)"
      ],
      "metadata": {
        "id": "yoWDbHJJMab_",
        "outputId": "a35c7d28-787d-4104-f897-d70840c3bb1c",
        "colab": {
          "base_uri": "https://localhost:8080/"
        }
      },
      "execution_count": 59,
      "outputs": [
        {
          "output_type": "stream",
          "name": "stdout",
          "text": [
            "[0.12232407, 'mean_price_per_host']\n",
            "[0.007894844, 'Brooklyn']\n",
            "[0.13302054, 'Manhattan']\n",
            "[0.0055581727, 'Financial District']\n",
            "[0.005099287, 'Harlem']\n",
            "[0.006537587, 'Washington Heights']\n",
            "[0.20700672, 'Entire home/apt']\n",
            "[0.32938737, 'Private room']\n",
            "[0.027710345, 'Shared room']\n",
            "[0.013728333, 'multiprop']\n",
            "[0.011999478, 'super_host']\n",
            "[0.0041617327, 'zero_reviews']\n"
          ]
        }
      ]
    },
    {
      "cell_type": "code",
      "source": [
        "count = 0\n",
        "for i in imp_feat:\n",
        "  if i>median:\n",
        "    count+=1\n",
        "print(count)"
      ],
      "metadata": {
        "id": "thkjvIzAL1oT",
        "outputId": "5ea1cbd1-535c-4656-f8d9-18d87eb7a80f",
        "colab": {
          "base_uri": "https://localhost:8080/"
        }
      },
      "execution_count": 58,
      "outputs": [
        {
          "output_type": "stream",
          "name": "stdout",
          "text": [
            "122\n"
          ]
        }
      ]
    },
    {
      "cell_type": "code",
      "source": [
        "from sklearn.feature_selection import SelectFromModel\n",
        "\n",
        "# select features using threshold\n",
        "selection = SelectFromModel(xgb, threshold=avg, prefit=True)\n",
        "select_X_train = selection.transform(X_train)\n",
        "# train model\n",
        "selection_model_xgb = xg.XGBRegressor()\n",
        "selection_model_xgb.fit(select_X_train, y_train)\n",
        "# eval model\n",
        "select_X_test = selection.transform(X_test)\n",
        "y_pred_xgb = selection_model_xgb.predict(select_X_test)\n",
        "xgb_scores_selection=scores(y_test,y_pred_xgb,plot= True)"
      ],
      "metadata": {
        "id": "uB9WHJBtIt9B",
        "outputId": "87f56d89-a1c4-4cf2-c4ee-37046a666a0f",
        "colab": {
          "base_uri": "https://localhost:8080/",
          "height": 586
        }
      },
      "execution_count": 44,
      "outputs": [
        {
          "output_type": "stream",
          "name": "stderr",
          "text": [
            "/usr/local/lib/python3.9/dist-packages/sklearn/base.py:413: UserWarning: X has feature names, but SelectFromModel was fitted without feature names\n",
            "  warnings.warn(\n",
            "/usr/local/lib/python3.9/dist-packages/sklearn/base.py:413: UserWarning: X has feature names, but SelectFromModel was fitted without feature names\n",
            "  warnings.warn(\n"
          ]
        },
        {
          "output_type": "display_data",
          "data": {
            "text/plain": [
              "<Figure size 1080x360 with 2 Axes>"
            ],
            "image/png": "[encoded data removed]"
          },
          "metadata": {
            "needs_background": "light"
          }
        },
        {
          "output_type": "stream",
          "name": "stdout",
          "text": [
            "R²: 0.9259285092392491\n",
            "MAE: 7.103164272856629\n",
            "MSE: 342.2271615915142\n",
            "RMSE: 18.49938273541888\n",
            "MAPE: 23600415514195.91\n",
            "error_ratio_rmse: 0.1542988696221566\n",
            "error_ratio_mae: 0.05924577234373593\n"
          ]
        }
      ]
    },
    {
      "cell_type": "code",
      "source": [
        "# cross_validation\n",
        "cv_result = cross_validate(xgb, X_train, y_train,scoring=('r2', 'neg_mean_squared_error','neg_mean_absolute_error','neg_mean_absolute_percentage_error'))\n",
        "pd.DataFrame(cv_result)"
      ],
      "metadata": {
        "colab": {
          "base_uri": "https://localhost:8080/",
          "height": 331
        },
        "id": "rauyGSCJhvnT",
        "outputId": "6ffc6c73-89c5-46ae-86b8-e516ccfd7ac7"
      },
      "execution_count": 16,
      "outputs": [
        {
          "output_type": "stream",
          "name": "stdout",
          "text": [
            "R²: 0.9167099313403475\n",
            "MAE: 8.669377109133201\n",
            "MSE: 384.81909157496034\n",
            "RMSE: 19.61680635513743\n",
            "MAPE: 27578230527850.227\n",
            "error_ratio_rmse: 0.1636190293203265\n",
            "error_ratio_mae: 0.07230917417078693\n"
          ]
        },
        {
          "output_type": "execute_result",
          "data": {
            "text/plain": [
              "     fit_time  score_time   test_r2  test_neg_mean_squared_error  \\\n",
              "0  109.274813    0.188691  0.920070                  -377.789378   \n",
              "1  109.354649    0.187904  0.921415                  -365.669639   \n",
              "2  110.244938    0.198134  0.926115                  -339.948546   \n",
              "3  108.680580    0.190401  0.924413                  -352.759000   \n",
              "4  108.450371    0.179792  0.917822                  -375.805662   \n",
              "\n",
              "   test_neg_mean_absolute_error  test_neg_mean_absolute_percentage_error  \n",
              "0                     -8.718515                            -2.687310e+13  \n",
              "1                     -8.661520                            -2.954323e+13  \n",
              "2                     -8.453018                            -5.919850e+13  \n",
              "3                     -8.645088                            -8.307948e-02  \n",
              "4                     -8.644988                            -7.648210e+13  "
            ],
            "text/html": [
              "\n",
              "  <div id=\"df-b6354be2-708a-4ad5-bd7d-c0fe139b472b\">\n",
              "    <div class=\"colab-df-container\">\n",
              "      <div>\n",
              "<style scoped>\n",
              "    .dataframe tbody tr th:only-of-type {\n",
              "        vertical-align: middle;\n",
              "    }\n",
              "\n",
              "    .dataframe tbody tr th {\n",
              "        vertical-align: top;\n",
              "    }\n",
              "\n",
              "    .dataframe thead th {\n",
              "        text-align: right;\n",
              "    }\n",
              "</style>\n",
              "<table border=\"1\" class=\"dataframe\">\n",
              "  <thead>\n",
              "    <tr style=\"text-align: right;\">\n",
              "      <th></th>\n",
              "      <th>fit_time</th>\n",
              "      <th>score_time</th>\n",
              "      <th>test_r2</th>\n",
              "      <th>test_neg_mean_squared_error</th>\n",
              "      <th>test_neg_mean_absolute_error</th>\n",
              "      <th>test_neg_mean_absolute_percentage_error</th>\n",
              "    </tr>\n",
              "  </thead>\n",
              "  <tbody>\n",
              "    <tr>\n",
              "      <th>0</th>\n",
              "      <td>109.274813</td>\n",
              "      <td>0.188691</td>\n",
              "      <td>0.920070</td>\n",
              "      <td>-377.789378</td>\n",
              "      <td>-8.718515</td>\n",
              "      <td>-2.687310e+13</td>\n",
              "    </tr>\n",
              "    <tr>\n",
              "      <th>1</th>\n",
              "      <td>109.354649</td>\n",
              "      <td>0.187904</td>\n",
              "      <td>0.921415</td>\n",
              "      <td>-365.669639</td>\n",
              "      <td>-8.661520</td>\n",
              "      <td>-2.954323e+13</td>\n",
              "    </tr>\n",
              "    <tr>\n",
              "      <th>2</th>\n",
              "      <td>110.244938</td>\n",
              "      <td>0.198134</td>\n",
              "      <td>0.926115</td>\n",
              "      <td>-339.948546</td>\n",
              "      <td>-8.453018</td>\n",
              "      <td>-5.919850e+13</td>\n",
              "    </tr>\n",
              "    <tr>\n",
              "      <th>3</th>\n",
              "      <td>108.680580</td>\n",
              "      <td>0.190401</td>\n",
              "      <td>0.924413</td>\n",
              "      <td>-352.759000</td>\n",
              "      <td>-8.645088</td>\n",
              "      <td>-8.307948e-02</td>\n",
              "    </tr>\n",
              "    <tr>\n",
              "      <th>4</th>\n",
              "      <td>108.450371</td>\n",
              "      <td>0.179792</td>\n",
              "      <td>0.917822</td>\n",
              "      <td>-375.805662</td>\n",
              "      <td>-8.644988</td>\n",
              "      <td>-7.648210e+13</td>\n",
              "    </tr>\n",
              "  </tbody>\n",
              "</table>\n",
              "</div>\n",
              "      <button class=\"colab-df-convert\" onclick=\"convertToInteractive('df-b6354be2-708a-4ad5-bd7d-c0fe139b472b')\"\n",
              "              title=\"Convert this dataframe to an interactive table.\"\n",
              "              style=\"display:none;\">\n",
              "        \n",
              "  <svg xmlns=\"http://www.w3.org/2000/svg\" height=\"24px\"viewBox=\"0 0 24 24\"\n",
              "       width=\"24px\">\n",
              "    <path d=\"M0 0h24v24H0V0z\" fill=\"none\"/>\n",
              "    <path d=\"M18.56 5.44l.94 2.06.94-2.06 2.06-.94-2.06-.94-.94-2.06-.94 2.06-2.06.94zm-11 1L8.5 8.5l.94-2.06 2.06-.94-2.06-.94L8.5 2.5l-.94 2.06-2.06.94zm10 10l.94 2.06.94-2.06 2.06-.94-2.06-.94-.94-2.06-.94 2.06-2.06.94z\"/><path d=\"M17.41 7.96l-1.37-1.37c-.4-.4-.92-.59-1.43-.59-.52 0-1.04.2-1.43.59L10.3 9.45l-7.72 7.72c-.78.78-.78 2.05 0 2.83L4 21.41c.39.39.9.59 1.41.59.51 0 1.02-.2 1.41-.59l7.78-7.78 2.81-2.81c.8-.78.8-2.07 0-2.86zM5.41 20L4 18.59l7.72-7.72 1.47 1.35L5.41 20z\"/>\n",
              "  </svg>\n",
              "      </button>\n",
              "      \n",
              "  <style>\n",
              "    .colab-df-container {\n",
              "      display:flex;\n",
              "      flex-wrap:wrap;\n",
              "      gap: 12px;\n",
              "    }\n",
              "\n",
              "    .colab-df-convert {\n",
              "      background-color: #E8F0FE;\n",
              "      border: none;\n",
              "      border-radius: 50%;\n",
              "      cursor: pointer;\n",
              "      display: none;\n",
              "      fill: #1967D2;\n",
              "      height: 32px;\n",
              "      padding: 0 0 0 0;\n",
              "      width: 32px;\n",
              "    }\n",
              "\n",
              "    .colab-df-convert:hover {\n",
              "      background-color: #E2EBFA;\n",
              "      box-shadow: 0px 1px 2px rgba(60, 64, 67, 0.3), 0px 1px 3px 1px rgba(60, 64, 67, 0.15);\n",
              "      fill: #174EA6;\n",
              "    }\n",
              "\n",
              "    [theme=dark] .colab-df-convert {\n",
              "      background-color: #3B4455;\n",
              "      fill: #D2E3FC;\n",
              "    }\n",
              "\n",
              "    [theme=dark] .colab-df-convert:hover {\n",
              "      background-color: #434B5C;\n",
              "      box-shadow: 0px 1px 3px 1px rgba(0, 0, 0, 0.15);\n",
              "      filter: drop-shadow(0px 1px 2px rgba(0, 0, 0, 0.3));\n",
              "      fill: #FFFFFF;\n",
              "    }\n",
              "  </style>\n",
              "\n",
              "      <script>\n",
              "        const buttonEl =\n",
              "          document.querySelector('#df-b6354be2-708a-4ad5-bd7d-c0fe139b472b button.colab-df-convert');\n",
              "        buttonEl.style.display =\n",
              "          google.colab.kernel.accessAllowed ? 'block' : 'none';\n",
              "\n",
              "        async function convertToInteractive(key) {\n",
              "          const element = document.querySelector('#df-b6354be2-708a-4ad5-bd7d-c0fe139b472b');\n",
              "          const dataTable =\n",
              "            await google.colab.kernel.invokeFunction('convertToInteractive',\n",
              "                                                     [key], {});\n",
              "          if (!dataTable) return;\n",
              "\n",
              "          const docLinkHtml = 'Like what you see? Visit the ' +\n",
              "            '<a target=\"_blank\" href=https://colab.research.google.com/notebooks/data_table.ipynb>data table notebook</a>'\n",
              "            + ' to learn more about interactive tables.';\n",
              "          element.innerHTML = '';\n",
              "          dataTable['output_type'] = 'display_data';\n",
              "          await google.colab.output.renderOutput(dataTable, element);\n",
              "          const docLink = document.createElement('div');\n",
              "          docLink.innerHTML = docLinkHtml;\n",
              "          element.appendChild(docLink);\n",
              "        }\n",
              "      </script>\n",
              "    </div>\n",
              "  </div>\n",
              "  "
            ]
          },
          "metadata": {},
          "execution_count": 16
        }
      ]
    },
    {
      "cell_type": "markdown",
      "source": [
        "## 6. Gradient Boosting (sklearn)"
      ],
      "metadata": {
        "id": "glCQWy_okGtK"
      }
    },
    {
      "cell_type": "code",
      "source": [
        "gdb = GradientBoostingRegressor(n_estimators = 300, max_depth = 5, min_samples_split = 2, learning_rate = 0.1, loss = 'squared_error')\n",
        "gdb.fit(X_train, y_train)\n",
        "y_pred = gdb.predict(X_test)\n",
        "gdb_scores=scores(y_test, y_pred, plot= True)"
      ],
      "metadata": {
        "colab": {
          "base_uri": "https://localhost:8080/",
          "height": 495
        },
        "id": "1j-EKKPDh48N",
        "outputId": "64cb7798-5aaa-4f6e-86cf-7d48aa16a653"
      },
      "execution_count": 17,
      "outputs": [
        {
          "output_type": "display_data",
          "data": {
            "text/plain": [
              "<Figure size 1080x360 with 2 Axes>"
            ],
            "image/png": "[encoded data removed]"
          },
          "metadata": {
            "needs_background": "light"
          }
        },
        {
          "output_type": "stream",
          "name": "stdout",
          "text": [
            "R²: 0.926406864416334\n",
            "MAE: 7.483700912137194\n",
            "MSE: 340.0170516989627\n",
            "RMSE: 18.439551287896425\n",
            "MAPE: 25054669281035.508\n",
            "error_ratio_rmse: 0.1537998300135054\n",
            "error_ratio_mae: 0.06241973626083394\n"
          ]
        }
      ]
    },
    {
      "cell_type": "code",
      "source": [
        "selection_model_gb = GradientBoostingRegressor(n_estimators = 300, max_depth = 5, min_samples_split = 2, learning_rate = 0.1, loss = 'squared_error')\n",
        "selection_model_gb.fit(select_X_train, y_train)\n",
        "# eval model\n",
        "y_pred_gb = selection_model_gb.predict(select_X_test)\n",
        "gb_scores_selection=scores(y_test,y_pred_gb,plot= True)"
      ],
      "metadata": {
        "id": "W2dovkgcKZYh",
        "outputId": "f447f060-6c55-4dad-a06a-b122e7731e87",
        "colab": {
          "base_uri": "https://localhost:8080/",
          "height": 495
        }
      },
      "execution_count": 47,
      "outputs": [
        {
          "output_type": "display_data",
          "data": {
            "text/plain": [
              "<Figure size 1080x360 with 2 Axes>"
            ],
            "image/png": "[encoded data removed]"
          },
          "metadata": {
            "needs_background": "light"
          }
        },
        {
          "output_type": "stream",
          "name": "stdout",
          "text": [
            "R²: 0.9258316373303734\n",
            "MAE: 7.253944820295349\n",
            "MSE: 342.67473187897576\n",
            "RMSE: 18.51147568074938\n",
            "MAPE: 22010373671950.02\n",
            "error_ratio_rmse: 0.15439973394944717\n",
            "error_ratio_mae: 0.060503396360901684\n"
          ]
        }
      ]
    },
    {
      "cell_type": "code",
      "source": [
        "# cross_validation\n",
        "cv_result = cross_validate(gdb, X_train, y_train,scoring=('r2', 'neg_mean_squared_error','neg_mean_absolute_error','neg_mean_absolute_percentage_error'))\n",
        "pd.DataFrame(cv_result)"
      ],
      "metadata": {
        "id": "vv6PdvK0iKBq",
        "colab": {
          "base_uri": "https://localhost:8080/",
          "height": 206
        },
        "outputId": "fccf1bc7-9d12-4a27-b23b-a857b414bd37"
      },
      "execution_count": 18,
      "outputs": [
        {
          "output_type": "execute_result",
          "data": {
            "text/plain": [
              "    fit_time  score_time   test_r2  test_neg_mean_squared_error  \\\n",
              "0  68.584637    0.077317  0.923191                  -363.040056   \n",
              "1  68.763394    0.109358  0.927204                  -338.731482   \n",
              "2  68.521232    0.072759  0.932042                  -312.680186   \n",
              "3  69.070752    0.076227  0.932634                  -314.390755   \n",
              "4  69.154214    0.068925  0.924933                  -343.288066   \n",
              "\n",
              "   test_neg_mean_absolute_error  test_neg_mean_absolute_percentage_error  \n",
              "0                     -7.836716                            -3.193661e+13  \n",
              "1                     -7.579490                            -3.267452e+13  \n",
              "2                     -7.327688                            -5.273736e+13  \n",
              "3                     -7.454245                            -7.031742e-02  \n",
              "4                     -7.610607                            -5.698968e+13  "
            ],
            "text/html": [
              "\n",
              "  <div id=\"df-a44bbf70-84dc-4f69-9d6f-33f8ac6ac588\">\n",
              "    <div class=\"colab-df-container\">\n",
              "      <div>\n",
              "<style scoped>\n",
              "    .dataframe tbody tr th:only-of-type {\n",
              "        vertical-align: middle;\n",
              "    }\n",
              "\n",
              "    .dataframe tbody tr th {\n",
              "        vertical-align: top;\n",
              "    }\n",
              "\n",
              "    .dataframe thead th {\n",
              "        text-align: right;\n",
              "    }\n",
              "</style>\n",
              "<table border=\"1\" class=\"dataframe\">\n",
              "  <thead>\n",
              "    <tr style=\"text-align: right;\">\n",
              "      <th></th>\n",
              "      <th>fit_time</th>\n",
              "      <th>score_time</th>\n",
              "      <th>test_r2</th>\n",
              "      <th>test_neg_mean_squared_error</th>\n",
              "      <th>test_neg_mean_absolute_error</th>\n",
              "      <th>test_neg_mean_absolute_percentage_error</th>\n",
              "    </tr>\n",
              "  </thead>\n",
              "  <tbody>\n",
              "    <tr>\n",
              "      <th>0</th>\n",
              "      <td>68.584637</td>\n",
              "      <td>0.077317</td>\n",
              "      <td>0.923191</td>\n",
              "      <td>-363.040056</td>\n",
              "      <td>-7.836716</td>\n",
              "      <td>-3.193661e+13</td>\n",
              "    </tr>\n",
              "    <tr>\n",
              "      <th>1</th>\n",
              "      <td>68.763394</td>\n",
              "      <td>0.109358</td>\n",
              "      <td>0.927204</td>\n",
              "      <td>-338.731482</td>\n",
              "      <td>-7.579490</td>\n",
              "      <td>-3.267452e+13</td>\n",
              "    </tr>\n",
              "    <tr>\n",
              "      <th>2</th>\n",
              "      <td>68.521232</td>\n",
              "      <td>0.072759</td>\n",
              "      <td>0.932042</td>\n",
              "      <td>-312.680186</td>\n",
              "      <td>-7.327688</td>\n",
              "      <td>-5.273736e+13</td>\n",
              "    </tr>\n",
              "    <tr>\n",
              "      <th>3</th>\n",
              "      <td>69.070752</td>\n",
              "      <td>0.076227</td>\n",
              "      <td>0.932634</td>\n",
              "      <td>-314.390755</td>\n",
              "      <td>-7.454245</td>\n",
              "      <td>-7.031742e-02</td>\n",
              "    </tr>\n",
              "    <tr>\n",
              "      <th>4</th>\n",
              "      <td>69.154214</td>\n",
              "      <td>0.068925</td>\n",
              "      <td>0.924933</td>\n",
              "      <td>-343.288066</td>\n",
              "      <td>-7.610607</td>\n",
              "      <td>-5.698968e+13</td>\n",
              "    </tr>\n",
              "  </tbody>\n",
              "</table>\n",
              "</div>\n",
              "      <button class=\"colab-df-convert\" onclick=\"convertToInteractive('df-a44bbf70-84dc-4f69-9d6f-33f8ac6ac588')\"\n",
              "              title=\"Convert this dataframe to an interactive table.\"\n",
              "              style=\"display:none;\">\n",
              "        \n",
              "  <svg xmlns=\"http://www.w3.org/2000/svg\" height=\"24px\"viewBox=\"0 0 24 24\"\n",
              "       width=\"24px\">\n",
              "    <path d=\"M0 0h24v24H0V0z\" fill=\"none\"/>\n",
              "    <path d=\"M18.56 5.44l.94 2.06.94-2.06 2.06-.94-2.06-.94-.94-2.06-.94 2.06-2.06.94zm-11 1L8.5 8.5l.94-2.06 2.06-.94-2.06-.94L8.5 2.5l-.94 2.06-2.06.94zm10 10l.94 2.06.94-2.06 2.06-.94-2.06-.94-.94-2.06-.94 2.06-2.06.94z\"/><path d=\"M17.41 7.96l-1.37-1.37c-.4-.4-.92-.59-1.43-.59-.52 0-1.04.2-1.43.59L10.3 9.45l-7.72 7.72c-.78.78-.78 2.05 0 2.83L4 21.41c.39.39.9.59 1.41.59.51 0 1.02-.2 1.41-.59l7.78-7.78 2.81-2.81c.8-.78.8-2.07 0-2.86zM5.41 20L4 18.59l7.72-7.72 1.47 1.35L5.41 20z\"/>\n",
              "  </svg>\n",
              "      </button>\n",
              "      \n",
              "  <style>\n",
              "    .colab-df-container {\n",
              "      display:flex;\n",
              "      flex-wrap:wrap;\n",
              "      gap: 12px;\n",
              "    }\n",
              "\n",
              "    .colab-df-convert {\n",
              "      background-color: #E8F0FE;\n",
              "      border: none;\n",
              "      border-radius: 50%;\n",
              "      cursor: pointer;\n",
              "      display: none;\n",
              "      fill: #1967D2;\n",
              "      height: 32px;\n",
              "      padding: 0 0 0 0;\n",
              "      width: 32px;\n",
              "    }\n",
              "\n",
              "    .colab-df-convert:hover {\n",
              "      background-color: #E2EBFA;\n",
              "      box-shadow: 0px 1px 2px rgba(60, 64, 67, 0.3), 0px 1px 3px 1px rgba(60, 64, 67, 0.15);\n",
              "      fill: #174EA6;\n",
              "    }\n",
              "\n",
              "    [theme=dark] .colab-df-convert {\n",
              "      background-color: #3B4455;\n",
              "      fill: #D2E3FC;\n",
              "    }\n",
              "\n",
              "    [theme=dark] .colab-df-convert:hover {\n",
              "      background-color: #434B5C;\n",
              "      box-shadow: 0px 1px 3px 1px rgba(0, 0, 0, 0.15);\n",
              "      filter: drop-shadow(0px 1px 2px rgba(0, 0, 0, 0.3));\n",
              "      fill: #FFFFFF;\n",
              "    }\n",
              "  </style>\n",
              "\n",
              "      <script>\n",
              "        const buttonEl =\n",
              "          document.querySelector('#df-a44bbf70-84dc-4f69-9d6f-33f8ac6ac588 button.colab-df-convert');\n",
              "        buttonEl.style.display =\n",
              "          google.colab.kernel.accessAllowed ? 'block' : 'none';\n",
              "\n",
              "        async function convertToInteractive(key) {\n",
              "          const element = document.querySelector('#df-a44bbf70-84dc-4f69-9d6f-33f8ac6ac588');\n",
              "          const dataTable =\n",
              "            await google.colab.kernel.invokeFunction('convertToInteractive',\n",
              "                                                     [key], {});\n",
              "          if (!dataTable) return;\n",
              "\n",
              "          const docLinkHtml = 'Like what you see? Visit the ' +\n",
              "            '<a target=\"_blank\" href=https://colab.research.google.com/notebooks/data_table.ipynb>data table notebook</a>'\n",
              "            + ' to learn more about interactive tables.';\n",
              "          element.innerHTML = '';\n",
              "          dataTable['output_type'] = 'display_data';\n",
              "          await google.colab.output.renderOutput(dataTable, element);\n",
              "          const docLink = document.createElement('div');\n",
              "          docLink.innerHTML = docLinkHtml;\n",
              "          element.appendChild(docLink);\n",
              "        }\n",
              "      </script>\n",
              "    </div>\n",
              "  </div>\n",
              "  "
            ]
          },
          "metadata": {},
          "execution_count": 18
        }
      ]
    },
    {
      "cell_type": "markdown",
      "source": [
        "## 7. Gradient Boosting Decision Tree"
      ],
      "metadata": {
        "id": "DXgCA1adkcYp"
      }
    },
    {
      "cell_type": "code",
      "source": [
        "# Initialising the GBDT model\n",
        "gbdt = GradientBoostingRegressor(n_estimators=100, learning_rate=0.1, max_depth=3, random_state=100)\n",
        "\n",
        "# Training models\n",
        "gbdt.fit(X_train, y_train)\n",
        "\n",
        "# Making predictions on the test set\n",
        "y_gbdt = gbdt.predict(X_test)\n",
        "\n",
        "xgb_scores=scores(y_test,y_gbdt,plot= True)"
      ],
      "metadata": {
        "colab": {
          "base_uri": "https://localhost:8080/",
          "height": 495
        },
        "id": "gKGJYg8EiPJF",
        "outputId": "9cac0150-5197-4d2f-d487-dd330dc6cdc7"
      },
      "execution_count": 19,
      "outputs": [
        {
          "output_type": "display_data",
          "data": {
            "text/plain": [
              "<Figure size 1080x360 with 2 Axes>"
            ],
            "image/png": "[encoded data removed]"
          },
          "metadata": {
            "needs_background": "light"
          }
        },
        {
          "output_type": "stream",
          "name": "stdout",
          "text": [
            "R²: 0.9244504856720649\n",
            "MAE: 8.218018504086102\n",
            "MSE: 349.05596718146256\n",
            "RMSE: 18.683039559489846\n",
            "MAPE: 28803609138460.754\n",
            "error_ratio_rmse: 0.15583070669790342\n",
            "error_ratio_mae: 0.06854450139499424\n"
          ]
        }
      ]
    },
    {
      "cell_type": "code",
      "source": [
        "selection_model_gbdt = GradientBoostingRegressor(n_estimators=100, learning_rate=0.1, max_depth=3, random_state=100)\n",
        "selection_model_gbdt.fit(select_X_train, y_train)\n",
        "# eval model\n",
        "y_pred_gbdt = selection_model_gbdt.predict(select_X_test)\n",
        "gbdt_scores_selection=scores(y_test,y_pred_gbdt,plot= True)"
      ],
      "metadata": {
        "id": "6AlkStWyPlyA",
        "outputId": "678f6003-f7a5-47e3-e0cf-657f0770b12b",
        "colab": {
          "base_uri": "https://localhost:8080/",
          "height": 495
        }
      },
      "execution_count": 60,
      "outputs": [
        {
          "output_type": "display_data",
          "data": {
            "text/plain": [
              "<Figure size 1080x360 with 2 Axes>"
            ],
            "image/png": "[encoded data removed]"
          },
          "metadata": {
            "needs_background": "light"
          }
        },
        {
          "output_type": "stream",
          "name": "stdout",
          "text": [
            "R²: 0.9233655471112008\n",
            "MAE: 8.161657283388728\n",
            "MSE: 354.0686304932484\n",
            "RMSE: 18.81671146861875\n",
            "MAPE: 26787271573248.22\n",
            "error_ratio_rmse: 0.15694563170777068\n",
            "error_ratio_mae: 0.0680744061075726\n"
          ]
        }
      ]
    },
    {
      "cell_type": "markdown",
      "source": [
        "## 8.Stacking"
      ],
      "metadata": {
        "id": "MaX5kDnXll5p"
      }
    },
    {
      "cell_type": "code",
      "source": [
        "from sklearn.linear_model import LinearRegression\n",
        "from sklearn.neural_network import MLPRegressor"
      ],
      "metadata": {
        "id": "jShwT738iPQn"
      },
      "execution_count": 20,
      "outputs": []
    },
    {
      "cell_type": "code",
      "source": [
        "# Train multiple base learners\n",
        "model1 = LinearRegression()\n",
        "model1.fit(X_train, y_train)\n",
        "\n",
        "model2 = RandomForestRegressor(n_estimators=100, random_state=100)\n",
        "model2.fit(X_train, y_train)\n",
        "\n",
        "model3 = MLPRegressor(hidden_layer_sizes=(50,50), max_iter=1000, random_state=100)\n",
        "model3.fit(X_train, y_train)\n",
        "\n",
        "# Make predictions on the testing set using the base learners\n",
        "y_stacking1 = model1.predict(X_test)\n",
        "y_stacking2 = model2.predict(X_test)\n",
        "y_stacking3 = model3.predict(X_test)\n",
        "\n",
        "# Create a design matrix from the predictions of the base learners\n",
        "X_stack = np.column_stack((y_stacking1, y_stacking2, y_stacking3))\n",
        "\n",
        "# Train a meta-learner on the design matrix\n",
        "meta_learner = LinearRegression()\n",
        "meta_learner.fit(X_stack, y_test)\n",
        "\n",
        "# Use the base learners to make predictions on the testing set\n",
        "y_base_pred = np.column_stack((y_stacking1, y_stacking2, y_stacking3))\n",
        "\n",
        "# Use the meta-learner to make predictions on the testing set and evaluate the performance\n",
        "y_stack_pred = meta_learner.predict(y_base_pred)\n",
        "\n",
        "\n",
        "stack_scores=scores(y_test,y_stack_pred,plot= True)"
      ],
      "metadata": {
        "colab": {
          "base_uri": "https://localhost:8080/",
          "height": 495
        },
        "id": "SsmApwIAlrMv",
        "outputId": "3b7604a5-9474-454f-d6c2-c0b53919d6a1"
      },
      "execution_count": 21,
      "outputs": [
        {
          "output_type": "display_data",
          "data": {
            "text/plain": [
              "<Figure size 1080x360 with 2 Axes>"
            ],
            "image/png": "[encoded data removed]"
          },
          "metadata": {
            "needs_background": "light"
          }
        },
        {
          "output_type": "stream",
          "name": "stdout",
          "text": [
            "R²: 0.9311357229209216\n",
            "MAE: 7.2046406283347375\n",
            "MSE: 318.1686481232856\n",
            "RMSE: 17.837282531912916\n",
            "MAPE: 24115437188047.062\n",
            "error_ratio_rmse: 0.14877645222917124\n",
            "error_ratio_mae: 0.0600921620404943\n"
          ]
        }
      ]
    },
    {
      "cell_type": "code",
      "source": [
        "# cross_validation1\n",
        "cv_result = cross_validate(model1, X_train, y_train, scoring=('r2', 'neg_mean_squared_error','neg_mean_absolute_error','neg_mean_absolute_percentage_error'))\n",
        "pd.DataFrame(cv_result)"
      ],
      "metadata": {
        "id": "mePlPNL9lrSn"
      },
      "execution_count": null,
      "outputs": []
    },
    {
      "cell_type": "code",
      "source": [
        "# cross_validation2\n",
        "cv_result = cross_validate(model2, X_train, y_train, scoring=('r2', 'neg_mean_squared_error','neg_mean_absolute_error','neg_mean_absolute_percentage_error'))\n",
        "pd.DataFrame(cv_result)"
      ],
      "metadata": {
        "id": "NqsEfAwhl15L"
      },
      "execution_count": null,
      "outputs": []
    },
    {
      "cell_type": "code",
      "source": [
        "# cross_validation3\n",
        "cv_result = cross_validate(model3, X_train, y_train, scoring=('r2', 'neg_mean_squared_error','neg_mean_absolute_error','neg_mean_absolute_percentage_error'))\n",
        "pd.DataFrame(cv_result)"
      ],
      "metadata": {
        "id": "6JZDHoRUl2Ej"
      },
      "execution_count": null,
      "outputs": []
    }
  ]
}